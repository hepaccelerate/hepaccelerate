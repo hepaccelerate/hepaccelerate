{
 "cells": [
  {
   "cell_type": "code",
   "execution_count": null,
   "metadata": {},
   "outputs": [],
   "source": [
    "import sys\n",
    "sys.path += [\"..\"]\n",
    "import hepaccelerate"
   ]
  },
  {
   "cell_type": "code",
   "execution_count": null,
   "metadata": {},
   "outputs": [],
   "source": [
    "import json\n",
    "import pandas\n",
    "import matplotlib\n",
    "import pickle\n",
    "\n",
    "fig_width = 5\n",
    "fig_height = 4\n",
    "params = {\n",
    "          #'backend': 'notebook',\n",
    "          'text.latex.preamble': [r'\\usepackage{gensymb}'],\n",
    "          'axes.labelsize': 12,\n",
    "          'axes.titlesize': 12,\n",
    "          'font.size': 10,\n",
    "          'text.usetex': False,\n",
    "          'figure.figsize': [fig_width,fig_height],\n",
    "          'font.family': 'serif',\n",
    "          'image.cmap': \"CMRmap\",\n",
    "}\n",
    "\n",
    "matplotlib.rcParams.update(params)\n",
    "\n",
    "import matplotlib.pyplot as plt\n",
    "import itertools\n",
    "import numpy as np"
   ]
  },
  {
   "cell_type": "code",
   "execution_count": null,
   "metadata": {},
   "outputs": [],
   "source": [
    "ss = open(\"../data/kernel_benchmarks.txt\").readlines()"
   ]
  },
  {
   "cell_type": "code",
   "execution_count": null,
   "metadata": {},
   "outputs": [],
   "source": [
    "dd = []\n",
    "for line in ss:\n",
    "    if len(line) > 0:\n",
    "        dd += [json.loads(line)]"
   ]
  },
  {
   "cell_type": "code",
   "execution_count": null,
   "metadata": {},
   "outputs": [],
   "source": [
    "df = pandas.DataFrame.from_dict(dd)\n",
    "df = df.drop(columns=[\"use_avx\"])\n",
    "df"
   ]
  },
  {
   "cell_type": "code",
   "execution_count": null,
   "metadata": {},
   "outputs": [],
   "source": [
    "ms = df.groupby([\"use_cuda\", \"num_threads\"]).mean()\n",
    "ms"
   ]
  },
  {
   "cell_type": "code",
   "execution_count": null,
   "metadata": {},
   "outputs": [],
   "source": [
    "es = df.groupby([\"use_cuda\", \"num_threads\"]).std()\n",
    "es"
   ]
  },
  {
   "cell_type": "code",
   "execution_count": null,
   "metadata": {},
   "outputs": [],
   "source": [
    "vals = []\n",
    "vals2 = []\n",
    "cols = []\n",
    "for icol, col in enumerate(sorted(ms.columns)):\n",
    "    if col in [\"memory_transfer\", \"memsize\", \"num_events\", \"max_in_offsets\"]:\n",
    "        continue\n",
    "    cols += [col]\n",
    "    vals += [ms[col].values[-1] / ms[col].values[0]]\n",
    "    vals2 += [ms[col].values[-1] / ms[col].values[-2]]"
   ]
  },
  {
   "cell_type": "code",
   "execution_count": null,
   "metadata": {},
   "outputs": [],
   "source": [
    "plt.figure(figsize=(6,3))\n",
    "plt.barh(range(len(vals)), vals, 0.7, color=\"orange\")\n",
    "plt.yticks(range(len(vals)), cols, fontsize=12)\n",
    "plt.xlabel(\"CPU-thread to GPU speedup\", fontsize=12)\n",
    "plt.title(\"Individual physics kernel speedups:\\n{0:.2E} events, {1:.0f} MB\".format(df[\"num_events\"].values[0], df[\"memsize\"].values[0]/1024/1024), fontsize=14)\n",
    "plt.tight_layout()\n",
    "plt.savefig(\"../paper/plots/kernel_speedup.pdf\", bbox_inches=\"tight\")\n",
    "plt.savefig(\"../paper/plots/kernel_speedup.png\", bbox_inches=\"tight\")"
   ]
  },
  {
   "cell_type": "code",
   "execution_count": null,
   "metadata": {},
   "outputs": [],
   "source": [
    "# Using multiple CPU threads for the same kernel\n",
    "# plt.figure(figsize=(6,5))\n",
    "# plt.barh(range(len(vals2)), vals2)\n",
    "# plt.yticks(range(len(vals2)), cols, fontsize=12)\n",
    "# plt.xlabel(\"GPU to CPU-thread speedup\", fontsize=12)\n",
    "# plt.title(\"Kernels: {0:.2E} events, {1:.0f} MB\".format(df[\"num_events\"].values[0], df[\"memsize\"].values[0]/1024/1024), fontsize=14)\n",
    "# plt.tight_layout()\n",
    "# plt.xlim(0,39)\n",
    "# plt.savefig(\"../paper/plots/kernel_speedup2.pdf\", bbox_inches=\"tight\")\n",
    "# plt.savefig(\"../paper/plots/kernel_speedup2.png\", bbox_inches=\"tight\")"
   ]
  },
  {
   "cell_type": "code",
   "execution_count": null,
   "metadata": {},
   "outputs": [],
   "source": [
    "plt.figure(figsize=(6,5))\n",
    "plt.set_cmap('CMRmap')\n",
    "\n",
    "marker = itertools.cycle(('o', '.', '^', 's', 'd', 'D')) \n",
    "xs = np.arange(len(ms.index.levels[1]) + 1)\n",
    "n = -0.23\n",
    "\n",
    "i = 0\n",
    "ncores = list(ms.index.levels[1])\n",
    "\n",
    "print(\"ncores\", ncores)\n",
    "for icol, col in enumerate(sorted(ms.columns)):\n",
    "    print(icol, i, col)\n",
    "    if col in [\"memory_transfer\", \"memsize\", \"num_events\", \"max_in_offsets\"]:\n",
    "        continue\n",
    "    norm = ms[col].values[0]\n",
    "    ratio = ms[col].values[-1] / ms[col].values[0]\n",
    "\n",
    "    m = next(marker)\n",
    "    color = plt.cm.hsv(icol / len(ms.columns))\n",
    "    plt.bar(xs + n, ms[col].values/norm, width=0.1, label=col + \":\\n1t: ${0:.0f} \\pm {1:.0f}$ MHz, GPU {2:.1f}x\".format(ms[col].values[0], es[col].values[0], ratio), color=color)\n",
    "    plt.errorbar(xs + n, ms[col].values/norm, es[col].values/norm, lw=0, elinewidth=1, ms=0, color=\"black\")\n",
    "    n += 0.12\n",
    "\n",
    "for i in range(6):\n",
    "    kw = {}\n",
    "    if i == 0:\n",
    "        kw[\"label\"] = \"linear scaling with CPU threads\"\n",
    "    plt.plot([i-0.3, i+0.5], [ncores[i], ncores[i]], color=\"gray\", lw=1, ls=\"--\", **kw)\n",
    "    \n",
    "plt.legend(frameon=False, fontsize=10, ncol=1, loc=2)\n",
    "#plt.yscale(\"log\")\n",
    "plt.ylim(0,200)\n",
    "#plt.axhline(1, color=\"black\", lw=1)\n",
    "plt.xticks(xs, [\"{0}t\".format(x)for x in ms.index.levels[1]] + [\"1 GPU\"], fontsize=12, rotation=90)\n",
    "plt.yticks(fontsize=12)\n",
    "plt.xlabel(\"CPU threads / GPUs\", fontsize=12)\n",
    "plt.ylabel(\"speedup over single thread\", fontsize=12)\n",
    "plt.title(\"Kernels: {0:.2E} events, {1:.0f} MB\".format(df[\"num_events\"].values[0], df[\"memsize\"].values[0]/1024/1024), fontsize=14)\n",
    "plt.tight_layout()\n",
    "plt.savefig(\"../paper/plots/kernel_benchmarks.pdf\", bbox_inches=\"tight\")\n",
    "plt.savefig(\"../paper/plots/kernel_benchmarks.png\", bbox_inches=\"tight\")"
   ]
  },
  {
   "cell_type": "markdown",
   "metadata": {},
   "source": [
    "# Full analysis benchmarks"
   ]
  },
  {
   "cell_type": "code",
   "execution_count": null,
   "metadata": {},
   "outputs": [],
   "source": [
    "ls = open(\"../data/analysis_benchmarks.txt\").readlines()"
   ]
  },
  {
   "cell_type": "code",
   "execution_count": null,
   "metadata": {},
   "outputs": [],
   "source": [
    "dds = []\n",
    "for l in ls:\n",
    "    spl = l.strip().split()\n",
    "    nev = int(spl[1])\n",
    "    spd = float(spl[-2])\n",
    "    scenario = spl[0].split(\":\")[0].split(\"_\")[1:3]\n",
    "    scenario[1] = int(scenario[1].split(\".\")[0][4:])\n",
    "    dd = {\"device\": scenario[0], \"njec\": scenario[1], \"speed\": spd}\n",
    "    dds += [dd]\n",
    "df = pandas.DataFrame(dds)"
   ]
  },
  {
   "cell_type": "code",
   "execution_count": null,
   "metadata": {},
   "outputs": [],
   "source": [
    "df"
   ]
  },
  {
   "cell_type": "code",
   "execution_count": null,
   "metadata": {},
   "outputs": [],
   "source": [
    "#24 parallel CPU threads\n",
    "df.loc[df[\"device\"] == \"cpu\", \"speed_thread\"] = df.loc[df[\"device\"] == \"cpu\", \"speed\"] / 24\n",
    "\n",
    "#8 GPUs, 2 streams per GPU\n",
    "df.loc[df[\"device\"] == \"gpu\", \"speed_thread\"] = df.loc[df[\"device\"] == \"gpu\", \"speed\"] / 16"
   ]
  },
  {
   "cell_type": "code",
   "execution_count": null,
   "metadata": {},
   "outputs": [],
   "source": [
    "df[\"time_per_billion_events_hours\"] = (1e9 / df[\"speed_thread\"]) / 3600"
   ]
  },
  {
   "cell_type": "code",
   "execution_count": null,
   "metadata": {},
   "outputs": [],
   "source": [
    "gdf = df.groupby([\"device\", \"njec\"])\n",
    "ms = gdf.mean()"
   ]
  },
  {
   "cell_type": "code",
   "execution_count": null,
   "metadata": {},
   "outputs": [],
   "source": [
    "ms"
   ]
  },
  {
   "cell_type": "code",
   "execution_count": null,
   "metadata": {},
   "outputs": [],
   "source": [
    "df[df[\"device\"] == \"gpu\"][\"speed_thread\"].values / df[df[\"device\"] == \"cpu\"][\"speed_thread\"].values"
   ]
  },
  {
   "cell_type": "code",
   "execution_count": null,
   "metadata": {},
   "outputs": [],
   "source": [
    "vals1 = nev/df[\"speed_thread\"].values / 60\n",
    "vals2 = nev/df[\"speed\"].values / 60"
   ]
  },
  {
   "cell_type": "code",
   "execution_count": null,
   "metadata": {},
   "outputs": [],
   "source": [
    "plt.figure(figsize=(5,4))\n",
    "plt.set_cmap('CMRmap')\n",
    "#plt.suptitle(\"Total runtime for {0:.2E} events on one workstation:\\n 28-thread E5-2697 v3, 8x GTX 1080\".format(nev), fontsize=14, y=1.00, va=\"bottom\")\n",
    "\n",
    "# plt.subplot(1,2,1)\n",
    "# plt.title(\"IO-dominated workflow,\\n\" + \"speedup {0:.1f}x\".format(vals2[0]/vals2[2]), fontsize=12)\n",
    "# plt.bar(range(2), [vals2[0], vals2[2]])\n",
    "# plt.ylabel(\"Runtime (hours)\", fontsize=12)\n",
    "# plt.xticks([0, 1], [\"CPU only\", \"CPU+GPU\"], fontsize=12)\n",
    "\n",
    "#plt.subplot(1,2,2)\n",
    "plt.title(\n",
    "    \"Analysis runtime on a multi-GPU system:\\n{0:.2E} events,\".format(nev) +\n",
    "    \"\\nGPU speedup {0:.1f}x\".format(vals2[1]/vals2[3]),\n",
    "    fontsize=14\n",
    ")\n",
    "plt.barh(range(2), [vals2[1], vals2[3]], 0.7, color=\"orange\")\n",
    "plt.xlabel(\"Runtime (minutes)\", fontsize=12)\n",
    "plt.yticks([0, 1], [\"CPU only\\n(24 threads)\", \"CPU+8xGPU\\n(16 streams)\"], fontsize=12)\n",
    "\n",
    "plt.tight_layout()\n",
    "plt.savefig(\"../paper/plots/analysis_benchmark.pdf\", bbox_inches=\"tight\")\n",
    "plt.savefig(\"../paper/plots/analysis_benchmark.png\", bbox_inches=\"tight\")"
   ]
  },
  {
   "cell_type": "code",
   "execution_count": null,
   "metadata": {},
   "outputs": [],
   "source": []
  }
 ],
 "metadata": {
  "kernelspec": {
   "display_name": "Python 3",
   "language": "python",
   "name": "python3"
  },
  "language_info": {
   "codemirror_mode": {
    "name": "ipython",
    "version": 3
   },
   "file_extension": ".py",
   "mimetype": "text/x-python",
   "name": "python",
   "nbconvert_exporter": "python",
   "pygments_lexer": "ipython3",
   "version": "3.6.10"
  }
 },
 "nbformat": 4,
 "nbformat_minor": 2
}
