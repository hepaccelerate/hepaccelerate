{
 "cells": [
  {
   "cell_type": "code",
   "execution_count": 3,
   "metadata": {},
   "outputs": [],
   "source": [
    "import os\n",
    "os.chdir(\"..\")\n",
    "\n",
    "#Set to 1 to use the GPU-backend, if you have a GPU\n",
    "os.environ[\"HEPACCELERATE_CUDA\"] = \"0\""
   ]
  },
  {
   "cell_type": "markdown",
   "metadata": {},
   "source": [
    "# Example 1"
   ]
  },
  {
   "cell_type": "code",
   "execution_count": 4,
   "metadata": {},
   "outputs": [
    {
     "name": "stdout",
     "output_type": "stream",
     "text": [
      "True\n"
     ]
    }
   ],
   "source": [
    "%run examples/ex1.py"
   ]
  },
  {
   "cell_type": "markdown",
   "metadata": {},
   "source": [
    "# Example 2"
   ]
  },
  {
   "cell_type": "code",
   "execution_count": 5,
   "metadata": {},
   "outputs": [
    {
     "name": "stdout",
     "output_type": "stream",
     "text": [
      "Warning: file data/HZZ.root uses a compression method <Compression 'zlib' 1>, which is slower to open than lz4. Skipping further warnings about compression.\n",
      "[   0    0    1 ... 2771 2773 2773]\n",
      "[ 44.137363 230.34601  101.35884  ...  55.95058  229.57799   33.92035 ]\n",
      "[-1. -1. -1. ... -1. -1. -1.]\n",
      "[0.00927101 0.00033064 0.00507963 ... 0.00415307 0.00882933 0.00875541]\n"
     ]
    }
   ],
   "source": [
    "%run examples/ex2.py"
   ]
  },
  {
   "cell_type": "markdown",
   "metadata": {},
   "source": [
    "# Simple Hzz example"
   ]
  },
  {
   "cell_type": "code",
   "execution_count": 6,
   "metadata": {},
   "outputs": [
    {
     "name": "stdout",
     "output_type": "stream",
     "text": [
      "Requirement already satisfied: matplotlib in /Users/joosep/anaconda3/lib/python3.6/site-packages (3.1.1)\r\n",
      "Requirement already satisfied: cycler>=0.10 in /Users/joosep/anaconda3/lib/python3.6/site-packages (from matplotlib) (0.10.0)\r\n",
      "Requirement already satisfied: kiwisolver>=1.0.1 in /Users/joosep/anaconda3/lib/python3.6/site-packages (from matplotlib) (1.1.0)\r\n",
      "Requirement already satisfied: pyparsing!=2.0.4,!=2.1.2,!=2.1.6,>=2.0.1 in /Users/joosep/anaconda3/lib/python3.6/site-packages (from matplotlib) (2.4.2)\r\n",
      "Requirement already satisfied: python-dateutil>=2.1 in /Users/joosep/anaconda3/lib/python3.6/site-packages (from matplotlib) (2.8.0)\r\n",
      "Requirement already satisfied: numpy>=1.11 in /Users/joosep/anaconda3/lib/python3.6/site-packages (from matplotlib) (1.17.2)\r\n",
      "Requirement already satisfied: six in /Users/joosep/anaconda3/lib/python3.6/site-packages (from cycler>=0.10->matplotlib) (1.12.0)\r\n",
      "Requirement already satisfied: setuptools in /Users/joosep/anaconda3/lib/python3.6/site-packages (from kiwisolver>=1.0.1->matplotlib) (41.4.0)\r\n"
     ]
    }
   ],
   "source": [
    "#Needed just for the example, not for the main code\n",
    "!pip install matplotlib"
   ]
  },
  {
   "cell_type": "code",
   "execution_count": 7,
   "metadata": {},
   "outputs": [
    {
     "name": "stdout",
     "output_type": "stream",
     "text": [
      "Warning: file data/HZZ.root uses a compression method <Compression 'zlib' 1>, which is slower to open than lz4. Skipping further warnings about compression.\n",
      "preload: 2.42E+03 events in 0.0 seconds, 5.43E+04 Hz\n",
      "make_objects: 2.42E+03 events in 0.0 seconds, 3.81E+06 Hz\n",
      "move_to_device: 2.42E+03 events in 0.0 seconds, 1.16E+07 Hz\n",
      "analyze: processed analysis with 2.42E+03 events in 1.7 seconds, 1.41E+03 Hz, 9.84E-02 MB/s\n"
     ]
    }
   ],
   "source": [
    "%run examples/simple_hzz.py"
   ]
  },
  {
   "cell_type": "code",
   "execution_count": 8,
   "metadata": {},
   "outputs": [
    {
     "data": {
      "image/png": "[encoded data removed]",
      "text/plain": [
       "<IPython.core.display.Image object>"
      ]
     },
     "execution_count": 8,
     "metadata": {},
     "output_type": "execute_result"
    }
   ],
   "source": [
    "from IPython.display import Image\n",
    "Image(\"./hist.png\")"
   ]
  },
  {
   "cell_type": "markdown",
   "metadata": {},
   "source": [
    "# Full analysis example on a large dataset"
   ]
  },
  {
   "cell_type": "code",
   "execution_count": 9,
   "metadata": {},
   "outputs": [
    {
     "name": "stdout",
     "output_type": "stream",
     "text": [
      "Requirement already satisfied: tensorflow in /Users/joosep/anaconda3/lib/python3.6/site-packages (1.15.0)\n",
      "Requirement already satisfied: wheel>=0.26 in /Users/joosep/anaconda3/lib/python3.6/site-packages (from tensorflow) (0.33.6)\n",
      "Requirement already satisfied: google-pasta>=0.1.6 in /Users/joosep/anaconda3/lib/python3.6/site-packages (from tensorflow) (0.1.8)\n",
      "Requirement already satisfied: keras-preprocessing>=1.0.5 in /Users/joosep/anaconda3/lib/python3.6/site-packages (from tensorflow) (1.1.0)\n",
      "Requirement already satisfied: numpy<2.0,>=1.16.0 in /Users/joosep/anaconda3/lib/python3.6/site-packages (from tensorflow) (1.17.2)\n",
      "Requirement already satisfied: opt-einsum>=2.3.2 in /Users/joosep/anaconda3/lib/python3.6/site-packages (from tensorflow) (3.1.0)\n",
      "Requirement already satisfied: wrapt>=1.11.1 in /Users/joosep/anaconda3/lib/python3.6/site-packages (from tensorflow) (1.11.2)\n",
      "Requirement already satisfied: keras-applications>=1.0.8 in /Users/joosep/anaconda3/lib/python3.6/site-packages (from tensorflow) (1.0.8)\n",
      "Requirement already satisfied: tensorboard<1.16.0,>=1.15.0 in /Users/joosep/anaconda3/lib/python3.6/site-packages (from tensorflow) (1.15.0)\n",
      "Requirement already satisfied: gast==0.2.2 in /Users/joosep/anaconda3/lib/python3.6/site-packages (from tensorflow) (0.2.2)\n",
      "Requirement already satisfied: astor>=0.6.0 in /Users/joosep/anaconda3/lib/python3.6/site-packages (from tensorflow) (0.6.2)\n",
      "Requirement already satisfied: protobuf>=3.6.1 in /Users/joosep/anaconda3/lib/python3.6/site-packages (from tensorflow) (3.10.0)\n",
      "Requirement already satisfied: tensorflow-estimator==1.15.1 in /Users/joosep/anaconda3/lib/python3.6/site-packages (from tensorflow) (1.15.1)\n",
      "Requirement already satisfied: grpcio>=1.8.6 in /Users/joosep/anaconda3/lib/python3.6/site-packages (from tensorflow) (1.12.1)\n",
      "Requirement already satisfied: absl-py>=0.7.0 in /Users/joosep/anaconda3/lib/python3.6/site-packages (from tensorflow) (0.8.1)\n",
      "Requirement already satisfied: termcolor>=1.1.0 in /Users/joosep/anaconda3/lib/python3.6/site-packages (from tensorflow) (1.1.0)\n",
      "Requirement already satisfied: six>=1.10.0 in /Users/joosep/anaconda3/lib/python3.6/site-packages (from tensorflow) (1.12.0)\n",
      "Requirement already satisfied: h5py in /Users/joosep/anaconda3/lib/python3.6/site-packages (from keras-applications>=1.0.8->tensorflow) (2.10.0)\n",
      "Requirement already satisfied: werkzeug>=0.11.15 in /Users/joosep/anaconda3/lib/python3.6/site-packages (from tensorboard<1.16.0,>=1.15.0->tensorflow) (0.16.0)\n",
      "Requirement already satisfied: setuptools>=41.0.0 in /Users/joosep/anaconda3/lib/python3.6/site-packages (from tensorboard<1.16.0,>=1.15.0->tensorflow) (41.4.0)\n",
      "Requirement already satisfied: markdown>=2.6.8 in /Users/joosep/anaconda3/lib/python3.6/site-packages (from tensorboard<1.16.0,>=1.15.0->tensorflow) (2.6.11)\n"
     ]
    }
   ],
   "source": [
    "#Needed just for the example, not for the main code\n",
    "!pip install tensorflow"
   ]
  },
  {
   "cell_type": "code",
   "execution_count": null,
   "metadata": {},
   "outputs": [
    {
     "name": "stdout",
     "output_type": "stream",
     "text": [
      "downloading https://jpata.web.cern.ch/jpata/opendata_files/DY1JetsToLL-merged/1.root\n"
     ]
    },
    {
     "name": "stderr",
     "output_type": "stream",
     "text": [
      "/Users/joosep/anaconda3/lib/python3.6/site-packages/urllib3/connectionpool.py:847: InsecureRequestWarning: Unverified HTTPS request is being made. Adding certificate verification is strongly advised. See: https://urllib3.readthedocs.io/en/latest/advanced-usage.html#ssl-warnings\n",
      "  InsecureRequestWarning)\n"
     ]
    },
    {
     "name": "stdout",
     "output_type": "stream",
     "text": [
      "...........................................downloading https://jpata.web.cern.ch/jpata/opendata_files/DY2JetsToLL-merged/1.root\n"
     ]
    },
    {
     "name": "stderr",
     "output_type": "stream",
     "text": [
      "/Users/joosep/anaconda3/lib/python3.6/site-packages/urllib3/connectionpool.py:847: InsecureRequestWarning: Unverified HTTPS request is being made. Adding certificate verification is strongly advised. See: https://urllib3.readthedocs.io/en/latest/advanced-usage.html#ssl-warnings\n",
      "  InsecureRequestWarning)\n"
     ]
    },
    {
     "name": "stdout",
     "output_type": "stream",
     "text": [
      "...................................downloading https://jpata.web.cern.ch/jpata/opendata_files/DYJetsToLL-merged/1.root\n"
     ]
    },
    {
     "name": "stderr",
     "output_type": "stream",
     "text": [
      "/Users/joosep/anaconda3/lib/python3.6/site-packages/urllib3/connectionpool.py:847: InsecureRequestWarning: Unverified HTTPS request is being made. Adding certificate verification is strongly advised. See: https://urllib3.readthedocs.io/en/latest/advanced-usage.html#ssl-warnings\n",
      "  InsecureRequestWarning)\n"
     ]
    },
    {
     "name": "stdout",
     "output_type": "stream",
     "text": [
      "...................................downloading https://jpata.web.cern.ch/jpata/opendata_files/GluGluToHToMM-merged/1.root\n"
     ]
    },
    {
     "name": "stderr",
     "output_type": "stream",
     "text": [
      "/Users/joosep/anaconda3/lib/python3.6/site-packages/urllib3/connectionpool.py:847: InsecureRequestWarning: Unverified HTTPS request is being made. Adding certificate verification is strongly advised. See: https://urllib3.readthedocs.io/en/latest/advanced-usage.html#ssl-warnings\n",
      "  InsecureRequestWarning)\n"
     ]
    },
    {
     "name": "stdout",
     "output_type": "stream",
     "text": [
      "......downloading https://jpata.web.cern.ch/jpata/opendata_files/SingleMu-merged/SingleMu_1.root\n"
     ]
    },
    {
     "name": "stderr",
     "output_type": "stream",
     "text": [
      "/Users/joosep/anaconda3/lib/python3.6/site-packages/urllib3/connectionpool.py:847: InsecureRequestWarning: Unverified HTTPS request is being made. Adding certificate verification is strongly advised. See: https://urllib3.readthedocs.io/en/latest/advanced-usage.html#ssl-warnings\n",
      "  InsecureRequestWarning)\n"
     ]
    },
    {
     "name": "stdout",
     "output_type": "stream",
     "text": [
      "....................................downloading https://jpata.web.cern.ch/jpata/opendata_files/TTJets_FullLeptMGDecays-merged/1.root\n"
     ]
    },
    {
     "name": "stderr",
     "output_type": "stream",
     "text": [
      "/Users/joosep/anaconda3/lib/python3.6/site-packages/urllib3/connectionpool.py:847: InsecureRequestWarning: Unverified HTTPS request is being made. Adding certificate verification is strongly advised. See: https://urllib3.readthedocs.io/en/latest/advanced-usage.html#ssl-warnings\n",
      "  InsecureRequestWarning)\n"
     ]
    },
    {
     "name": "stdout",
     "output_type": "stream",
     "text": [
      ".........................................."
     ]
    }
   ],
   "source": [
    "#This will download a large (several GB) dataset and might take some time\n",
    "from tests.kernel_test import download_if_not_exists\n",
    "for fn in open(\"examples/data_partial.txt\").readlines():\n",
    "    fn = fn.strip()\n",
    "    try:\n",
    "        os.makedirs(os.path.dirname(fn))\n",
    "    except FileExistsError as e:\n",
    "        pass\n",
    "    download_if_not_exists(fn, \"https://jpata.web.cern.ch/jpata/\" + fn)"
   ]
  },
  {
   "cell_type": "code",
   "execution_count": null,
   "metadata": {},
   "outputs": [],
   "source": [
    "os.environ[\"KERAS_BACKEND\"] = \"tensorflow\""
   ]
  },
  {
   "cell_type": "code",
   "execution_count": null,
   "metadata": {
    "scrolled": false
   },
   "outputs": [],
   "source": [
    "%run examples/full_analysis.py --dask-server '' --datapath '.'"
   ]
  },
  {
   "cell_type": "code",
   "execution_count": null,
   "metadata": {},
   "outputs": [],
   "source": [
    "ß"
   ]
  }
 ],
 "metadata": {
  "kernelspec": {
   "display_name": "Python 3",
   "language": "python",
   "name": "python3"
  },
  "language_info": {
   "codemirror_mode": {
    "name": "ipython",
    "version": 3
   },
   "file_extension": ".py",
   "mimetype": "text/x-python",
   "name": "python",
   "nbconvert_exporter": "python",
   "pygments_lexer": "ipython3",
   "version": "3.6.9"
  }
 },
 "nbformat": 4,
 "nbformat_minor": 2
}
