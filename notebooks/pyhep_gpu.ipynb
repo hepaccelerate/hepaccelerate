{
  "nbformat": 4,
  "nbformat_minor": 0,
  "metadata": {
    "colab": {
      "name": "pyhep-gpu.ipynb",
      "provenance": [],
      "collapsed_sections": []
    },
    "kernelspec": {
      "name": "python3",
      "display_name": "Python 3"
    },
    "accelerator": "GPU"
  },
  "cells": [
    {
      "cell_type": "markdown",
      "metadata": {
        "id": "4UkbwMULuiC2",
        "colab_type": "text"
      },
      "source": [
        "# Physics analysis on a GPU!\n",
        "\n",
        "Joosep Pata (NICPB, Estonia)\n",
        "\n",
        "firstname.lastname@cern.ch"
      ]
    },
    {
      "cell_type": "markdown",
      "metadata": {
        "id": "n7DsM_p3uqqV",
        "colab_type": "text"
      },
      "source": [
        "In this notebook, we'll show how to connect `uproot`, `awkward-array`, `cupy` and `numba` to do numerically intensive physics data processing such as histogramming directly on a GPU!\n",
        "\n",
        "\n",
        "This is an entry-level tutorial, we don't focus on highly technical GPU optimizations at this time. It's mostly based on work that happened prior to the latest exciting developments (`awkward1`, `NanoEvents`, ...) in the PyHEP world, some of which we have already seen today."
      ]
    },
    {
      "cell_type": "code",
      "metadata": {
        "id": "9iHI8kJMnEAw",
        "colab_type": "code",
        "colab": {}
      },
      "source": [
        "#switch to a GPU runtime, let's check which GPU we got"
      ],
      "execution_count": 5,
      "outputs": []
    },
    {
      "cell_type": "code",
      "metadata": {
        "id": "qgkMDr4vWA0p",
        "colab_type": "code",
        "colab": {
          "base_uri": "https://localhost:8080/",
          "height": 357
        },
        "outputId": "e102f70c-a409-42ff-9c93-28036ce8bdbb"
      },
      "source": [
        "!nvidia-smi"
      ],
      "execution_count": 6,
      "outputs": [
        {
          "output_type": "stream",
          "text": [
            "Mon Jul 13 15:23:22 2020       \n",
            "+-----------------------------------------------------------------------------+\n",
            "| NVIDIA-SMI 450.36.06    Driver Version: 418.67       CUDA Version: 10.1     |\n",
            "|-------------------------------+----------------------+----------------------+\n",
            "| GPU  Name        Persistence-M| Bus-Id        Disp.A | Volatile Uncorr. ECC |\n",
            "| Fan  Temp  Perf  Pwr:Usage/Cap|         Memory-Usage | GPU-Util  Compute M. |\n",
            "|                               |                      |               MIG M. |\n",
            "|===============================+======================+======================|\n",
            "|   0  Tesla P100-PCIE...  Off  | 00000000:00:04.0 Off |                    0 |\n",
            "| N/A   36C    P0    26W / 250W |      0MiB / 16280MiB |      0%      Default |\n",
            "|                               |                      |                 ERR! |\n",
            "+-------------------------------+----------------------+----------------------+\n",
            "                                                                               \n",
            "+-----------------------------------------------------------------------------+\n",
            "| Processes:                                                                  |\n",
            "|  GPU   GI   CI        PID   Type   Process name                  GPU Memory |\n",
            "|        ID   ID                                                   Usage      |\n",
            "|=============================================================================|\n",
            "|  No running processes found                                                 |\n",
            "+-----------------------------------------------------------------------------+\n"
          ],
          "name": "stdout"
        }
      ]
    },
    {
      "cell_type": "markdown",
      "metadata": {
        "id": "Dum1pkkEv4MG",
        "colab_type": "text"
      },
      "source": [
        "Let's download an opendata ntuple for local use."
      ]
    },
    {
      "cell_type": "code",
      "metadata": {
        "id": "Qg3oO40faBuW",
        "colab_type": "code",
        "colab": {
          "base_uri": "https://localhost:8080/",
          "height": 204
        },
        "outputId": "94065907-6282-4f1a-ceaf-8c4b36d35d9d"
      },
      "source": [
        "!wget -nc http://jpata.web.cern.ch/jpata/opendata_files/DYJetsToLL-merged/1.root"
      ],
      "execution_count": 7,
      "outputs": [
        {
          "output_type": "stream",
          "text": [
            "--2020-07-13 15:24:15--  http://jpata.web.cern.ch/jpata/opendata_files/DYJetsToLL-merged/1.root\n",
            "Resolving jpata.web.cern.ch (jpata.web.cern.ch)... 188.185.67.197, 2001:1458:d00:1::100:3bf\n",
            "Connecting to jpata.web.cern.ch (jpata.web.cern.ch)|188.185.67.197|:80... connected.\n",
            "HTTP request sent, awaiting response... 200 OK\n",
            "Length: 1400675064 (1.3G) [text/plain]\n",
            "Saving to: ‘1.root’\n",
            "\n",
            "1.root              100%[===================>]   1.30G  6.12MB/s    in 5m 44s  \n",
            "\n",
            "2020-07-13 15:29:59 (3.88 MB/s) - ‘1.root’ saved [1400675064/1400675064]\n",
            "\n"
          ],
          "name": "stdout"
        }
      ]
    },
    {
      "cell_type": "markdown",
      "metadata": {
        "id": "NOwbVFuZA0_K",
        "colab_type": "text"
      },
      "source": [
        "While the file is downloading, here's an overview of what we'll be doing.\n",
        "\n",
        "1. Load a file with uproot, get the awkward array content\n",
        "2. Compile a custom CUDA kernel with numba\n",
        "3. Process an array with with threads in a kernel\n",
        "3. Create a kernel to process jagged array events\n",
        "4. Compute the invariant mass of jets in an event on the GPU and fill a weighted histogram\n",
        "5. ADL exercise 7: mask jets with respect to leptons with dR, compute jet sum pt and fill into a histogram"
      ]
    },
    {
      "cell_type": "markdown",
      "metadata": {
        "id": "dA6kfll31DbL",
        "colab_type": "text"
      },
      "source": [
        "In CUDA, we execute functions (kernels) in many simultaneous threads. Each thread is indexed by a block and thread index and gets assigned a chunk of work based on this index. Threads in the same block run in lock step on the same GPU core (SM), each of which consists of many CUDA cores."
      ]
    },
    {
      "cell_type": "markdown",
      "metadata": {
        "id": "WttCC9zv1INQ",
        "colab_type": "text"
      },
      "source": [
        "![CUDA thread grid](http://cuda.ce.rit.edu/cuda_overview/clip_image004.jpg)"
      ]
    },
    {
      "cell_type": "code",
      "metadata": {
        "id": "Nw5Rr_V9VPtM",
        "colab_type": "code",
        "colab": {
          "base_uri": "https://localhost:8080/",
          "height": 700
        },
        "outputId": "caf88a37-12a5-46ae-c77f-4c6d37a6885d"
      },
      "source": [
        "!pip install uproot uproot-methods awkward1 xxhash lz4 wurlitzer mplhep"
      ],
      "execution_count": 8,
      "outputs": [
        {
          "output_type": "stream",
          "text": [
            "Collecting uproot\n",
            "\u001b[?25l  Downloading https://files.pythonhosted.org/packages/0a/52/0e5e295affc168430591b8a687f7ba6c2bb911c766605466e224e2b22069/uproot-3.11.7-py2.py3-none-any.whl (116kB)\n",
            "\r\u001b[K     |██▉                             | 10kB 25.5MB/s eta 0:00:01\r\u001b[K     |█████▋                          | 20kB 5.8MB/s eta 0:00:01\r\u001b[K     |████████▌                       | 30kB 7.4MB/s eta 0:00:01\r\u001b[K     |███████████▎                    | 40kB 8.2MB/s eta 0:00:01\r\u001b[K     |██████████████                  | 51kB 6.8MB/s eta 0:00:01\r\u001b[K     |█████████████████               | 61kB 7.8MB/s eta 0:00:01\r\u001b[K     |███████████████████▊            | 71kB 8.1MB/s eta 0:00:01\r\u001b[K     |██████████████████████▌         | 81kB 8.0MB/s eta 0:00:01\r\u001b[K     |█████████████████████████▍      | 92kB 7.5MB/s eta 0:00:01\r\u001b[K     |████████████████████████████▏   | 102kB 7.8MB/s eta 0:00:01\r\u001b[K     |███████████████████████████████ | 112kB 7.8MB/s eta 0:00:01\r\u001b[K     |████████████████████████████████| 122kB 7.8MB/s \n",
            "\u001b[?25hCollecting uproot-methods\n",
            "  Downloading https://files.pythonhosted.org/packages/d3/68/d848b0ff4d1a30500b26dd570068edf5b30bafbc40500b887ef34d13377b/uproot_methods-0.7.4-py2.py3-none-any.whl\n",
            "Collecting awkward1\n",
            "\u001b[?25l  Downloading https://files.pythonhosted.org/packages/88/9b/2c2e9f48a41a8fdfaadabbe170a3662b685ab460add2720909f4d66f2e9b/awkward1-0.2.25-cp36-cp36m-manylinux2010_x86_64.whl (8.2MB)\n",
            "\u001b[K     |████████████████████████████████| 8.2MB 9.5MB/s \n",
            "\u001b[?25hCollecting xxhash\n",
            "\u001b[?25l  Downloading https://files.pythonhosted.org/packages/44/0e/5c6388b52e514620bdaf6696fd815e44f118a3fb312e8f1b22788eeadfa0/xxhash-1.4.4-cp36-cp36m-manylinux2010_x86_64.whl (217kB)\n",
            "\u001b[K     |████████████████████████████████| 225kB 49.9MB/s \n",
            "\u001b[?25hCollecting lz4\n",
            "\u001b[?25l  Downloading https://files.pythonhosted.org/packages/15/6a/ea95dd9a9957143636cfad5037637abec91016b9bde519d3edf4708e3d83/lz4-3.1.0-cp36-cp36m-manylinux2010_x86_64.whl (1.8MB)\n",
            "\u001b[K     |████████████████████████████████| 1.8MB 49.7MB/s \n",
            "\u001b[?25hCollecting wurlitzer\n",
            "  Downloading https://files.pythonhosted.org/packages/0c/1e/52f4effa64a447c4ec0fb71222799e2ac32c55b4b6c1725fccdf6123146e/wurlitzer-2.0.1-py2.py3-none-any.whl\n",
            "Collecting mplhep\n",
            "\u001b[?25l  Downloading https://files.pythonhosted.org/packages/ca/26/c9b4ce644ffa906bb4a5e2ceea9295e54d7bb6231eab8057a882cc51227b/mplhep-0.1.24-py3-none-any.whl (5.4MB)\n",
            "\u001b[K     |████████████████████████████████| 5.4MB 47.5MB/s \n",
            "\u001b[?25hRequirement already satisfied: numpy>=1.13.1 in /usr/local/lib/python3.6/dist-packages (from uproot) (1.18.5)\n",
            "Requirement already satisfied: cachetools in /usr/local/lib/python3.6/dist-packages (from uproot) (4.1.0)\n",
            "Collecting awkward<1.0,>=0.12.0\n",
            "\u001b[?25l  Downloading https://files.pythonhosted.org/packages/fc/8c/8ea1400b1abb1ae3258c9a71b4fc0094d33c21c55f9f5371541984dcc3ef/awkward-0.12.22-py2.py3-none-any.whl (87kB)\n",
            "\u001b[K     |████████████████████████████████| 92kB 11.9MB/s \n",
            "\u001b[?25hRequirement already satisfied: packaging in /usr/local/lib/python3.6/dist-packages (from mplhep) (20.4)\n",
            "Requirement already satisfied: matplotlib>=3.1 in /usr/local/lib/python3.6/dist-packages (from mplhep) (3.2.2)\n",
            "Requirement already satisfied: requests~=2.21 in /usr/local/lib/python3.6/dist-packages (from mplhep) (2.23.0)\n",
            "Requirement already satisfied: scipy>=1.1.0 in /usr/local/lib/python3.6/dist-packages (from mplhep) (1.4.1)\n",
            "Requirement already satisfied: pyparsing>=2.0.2 in /usr/local/lib/python3.6/dist-packages (from packaging->mplhep) (2.4.7)\n",
            "Requirement already satisfied: six in /usr/local/lib/python3.6/dist-packages (from packaging->mplhep) (1.12.0)\n",
            "Requirement already satisfied: cycler>=0.10 in /usr/local/lib/python3.6/dist-packages (from matplotlib>=3.1->mplhep) (0.10.0)\n",
            "Requirement already satisfied: kiwisolver>=1.0.1 in /usr/local/lib/python3.6/dist-packages (from matplotlib>=3.1->mplhep) (1.2.0)\n",
            "Requirement already satisfied: python-dateutil>=2.1 in /usr/local/lib/python3.6/dist-packages (from matplotlib>=3.1->mplhep) (2.8.1)\n",
            "Requirement already satisfied: urllib3!=1.25.0,!=1.25.1,<1.26,>=1.21.1 in /usr/local/lib/python3.6/dist-packages (from requests~=2.21->mplhep) (1.24.3)\n",
            "Requirement already satisfied: certifi>=2017.4.17 in /usr/local/lib/python3.6/dist-packages (from requests~=2.21->mplhep) (2020.6.20)\n",
            "Requirement already satisfied: idna<3,>=2.5 in /usr/local/lib/python3.6/dist-packages (from requests~=2.21->mplhep) (2.9)\n",
            "Requirement already satisfied: chardet<4,>=3.0.2 in /usr/local/lib/python3.6/dist-packages (from requests~=2.21->mplhep) (3.0.4)\n",
            "Installing collected packages: awkward, uproot-methods, uproot, awkward1, xxhash, lz4, wurlitzer, mplhep\n",
            "Successfully installed awkward-0.12.22 awkward1-0.2.25 lz4-3.1.0 mplhep-0.1.24 uproot-3.11.7 uproot-methods-0.7.4 wurlitzer-2.0.1 xxhash-1.4.4\n"
          ],
          "name": "stdout"
        }
      ]
    },
    {
      "cell_type": "code",
      "metadata": {
        "id": "RFaJOnMJk5Bm",
        "colab_type": "code",
        "colab": {}
      },
      "source": [
        "# capture stdout directly, as it is not piped to jupyter otherwise\n",
        "# https://github.com/jupyterhub/jupyterhub/issues/2035\n",
        "\n",
        "from wurlitzer import pipes\n",
        "\n",
        "def run_and_print(function, *args):\n",
        "  with pipes() as (out, err):\n",
        "    function(*args)\n",
        "  stdout = out.read()\n",
        "  print(stdout)"
      ],
      "execution_count": 9,
      "outputs": []
    },
    {
      "cell_type": "markdown",
      "metadata": {
        "id": "ErQy2nKYMrv7",
        "colab_type": "text"
      },
      "source": [
        "# 1. Load ROOT files with uproot"
      ]
    },
    {
      "cell_type": "code",
      "metadata": {
        "id": "3STBj3BbVRWb",
        "colab_type": "code",
        "colab": {
          "base_uri": "https://localhost:8080/",
          "height": 1000
        },
        "outputId": "fdfdf5db-ff46-41db-c7cf-865d349fd722"
      },
      "source": [
        "import uproot\n",
        "fi = uproot.open(\"1.root\")\n",
        "\n",
        "evs = fi[\"Events\"]\n",
        "evs.keys()"
      ],
      "execution_count": 10,
      "outputs": [
        {
          "output_type": "execute_result",
          "data": {
            "text/plain": [
              "[b'run',\n",
              " b'luminosityBlock',\n",
              " b'event',\n",
              " b'HLT_IsoMu24_eta2p1',\n",
              " b'HLT_IsoMu24',\n",
              " b'HLT_IsoMu17_eta2p1_LooseIsoPFTau20',\n",
              " b'PV_npvs',\n",
              " b'PV_x',\n",
              " b'PV_y',\n",
              " b'PV_z',\n",
              " b'nMuon',\n",
              " b'Muon_pt',\n",
              " b'Muon_eta',\n",
              " b'Muon_phi',\n",
              " b'Muon_mass',\n",
              " b'Muon_charge',\n",
              " b'Muon_pfRelIso03_all',\n",
              " b'Muon_pfRelIso04_all',\n",
              " b'Muon_tightId',\n",
              " b'Muon_softId',\n",
              " b'Muon_dxy',\n",
              " b'Muon_dxyErr',\n",
              " b'Muon_dz',\n",
              " b'Muon_dzErr',\n",
              " b'Muon_jetIdx',\n",
              " b'Muon_genPartIdx',\n",
              " b'nElectron',\n",
              " b'Electron_pt',\n",
              " b'Electron_eta',\n",
              " b'Electron_phi',\n",
              " b'Electron_mass',\n",
              " b'Electron_charge',\n",
              " b'Electron_pfRelIso03_all',\n",
              " b'Electron_dxy',\n",
              " b'Electron_dxyErr',\n",
              " b'Electron_dz',\n",
              " b'Electron_dzErr',\n",
              " b'Electron_cutBasedId',\n",
              " b'Electron_pfId',\n",
              " b'Electron_jetIdx',\n",
              " b'Electron_genPartIdx',\n",
              " b'nTau',\n",
              " b'Tau_pt',\n",
              " b'Tau_eta',\n",
              " b'Tau_phi',\n",
              " b'Tau_mass',\n",
              " b'Tau_charge',\n",
              " b'Tau_decayMode',\n",
              " b'Tau_relIso_all',\n",
              " b'Tau_jetIdx',\n",
              " b'Tau_genPartIdx',\n",
              " b'Tau_idDecayMode',\n",
              " b'Tau_idIsoRaw',\n",
              " b'Tau_idIsoVLoose',\n",
              " b'Tau_idIsoLoose',\n",
              " b'Tau_idIsoMedium',\n",
              " b'Tau_idIsoTight',\n",
              " b'Tau_idAntiEleLoose',\n",
              " b'Tau_idAntiEleMedium',\n",
              " b'Tau_idAntiEleTight',\n",
              " b'Tau_idAntiMuLoose',\n",
              " b'Tau_idAntiMuMedium',\n",
              " b'Tau_idAntiMuTight',\n",
              " b'MET_pt',\n",
              " b'MET_phi',\n",
              " b'MET_sumet',\n",
              " b'MET_significance',\n",
              " b'MET_CovXX',\n",
              " b'MET_CovXY',\n",
              " b'MET_CovYY',\n",
              " b'nJet',\n",
              " b'Jet_pt',\n",
              " b'Jet_eta',\n",
              " b'Jet_phi',\n",
              " b'Jet_mass',\n",
              " b'Jet_puId',\n",
              " b'Jet_btag',\n",
              " b'nGenPart',\n",
              " b'GenPart_pt',\n",
              " b'GenPart_eta',\n",
              " b'GenPart_phi',\n",
              " b'GenPart_mass',\n",
              " b'GenPart_pdgId',\n",
              " b'GenPart_status']"
            ]
          },
          "metadata": {
            "tags": []
          },
          "execution_count": 10
        }
      ]
    },
    {
      "cell_type": "code",
      "metadata": {
        "id": "hf_006L3a1ch",
        "colab_type": "code",
        "colab": {
          "base_uri": "https://localhost:8080/",
          "height": 54
        },
        "outputId": "08e68441-b8f1-4494-9049-f32c40a95abc"
      },
      "source": [
        "jet_pt = evs.array(\"Jet_pt\")\n",
        "jet_eta = evs.array(\"Jet_eta\")\n",
        "jet_phi = evs.array(\"Jet_phi\")\n",
        "jet_mass = evs.array(\"Jet_mass\")\n",
        "jet_pt"
      ],
      "execution_count": 12,
      "outputs": [
        {
          "output_type": "execute_result",
          "data": {
            "text/plain": [
              "<JaggedArray [[36.25315 32.198524 30.101957 ... 16.848015 15.487583 15.025305] [23.939432 21.36061 20.008955 ... 16.034006 15.96491 15.766194] [] ... [39.726204 26.98962 18.819519 17.05436 16.62841 16.533186] [23.370874] [31.095316 28.646101 25.23673 ... 18.90005 17.481096 15.94793]] at 0x7f8a420c0f60>"
            ]
          },
          "metadata": {
            "tags": []
          },
          "execution_count": 12
        }
      ]
    },
    {
      "cell_type": "markdown",
      "metadata": {
        "id": "Ii5R9JctMnvl",
        "colab_type": "text"
      },
      "source": [
        "# 2. Create an example kernel"
      ]
    },
    {
      "cell_type": "code",
      "metadata": {
        "id": "hdVRE5kbfBgM",
        "colab_type": "code",
        "colab": {}
      },
      "source": [
        "import numpy as np\n",
        "import numba\n",
        "import cupy\n",
        "from numba import cuda\n",
        "import math\n",
        "\n",
        "import mplhep\n",
        "import matplotlib.pyplot as plt\n",
        "\n",
        "\n",
        "@cuda.jit\n",
        "def example_kernel(array_in, array_out):\n",
        "  #just print out the thread and block indices of this kernel invocation\n",
        "  print(\"blockIdx\", cuda.blockIdx.x, \"blockDim\", cuda.blockDim.x, \"threadIdx\", cuda.threadIdx.x)\n",
        "\n",
        "#We run a kernel by calling it on a thread pool made up of nblocks and nthreads\n",
        "def run(nblocks, nthreads, *args):\n",
        "  example_kernel[nblocks, nthreads](*args)\n",
        "\n",
        "  #the kernel itself runs asynchronously, i.e. returns immediately\n",
        "  #if we want to wait for all open kernels to conclude, we need to call the following:\n",
        "  cuda.synchronize()\n",
        "\n",
        "#we need to copy the input to the GPU, and create a placeholder array for the output\n",
        "array_in = cupy.array(jet_pt.content[:10])\n",
        "array_out = cupy.zeros_like(array_in)"
      ],
      "execution_count": 13,
      "outputs": []
    },
    {
      "cell_type": "code",
      "metadata": {
        "id": "XtG6wnLez-M_",
        "colab_type": "code",
        "colab": {
          "base_uri": "https://localhost:8080/",
          "height": 51
        },
        "outputId": "c8d6d3fe-c281-461d-9089-bb7e480915b2"
      },
      "source": [
        "array_in"
      ],
      "execution_count": 14,
      "outputs": [
        {
          "output_type": "execute_result",
          "data": {
            "text/plain": [
              "array([36.25315 , 32.198524, 30.101957, 25.440208, 21.077322, 20.530226,\n",
              "       19.067327, 18.728504, 18.648342, 17.87829 ], dtype=float32)"
            ]
          },
          "metadata": {
            "tags": []
          },
          "execution_count": 14
        }
      ]
    },
    {
      "cell_type": "code",
      "metadata": {
        "id": "Gb7PYoQGfJpl",
        "colab_type": "code",
        "colab": {}
      },
      "source": [
        "#Let's call this function with a single thread\n",
        "run(1, 1, array_in, array_out)"
      ],
      "execution_count": 15,
      "outputs": []
    },
    {
      "cell_type": "code",
      "metadata": {
        "id": "TuA9uiTVj_xi",
        "colab_type": "code",
        "colab": {
          "base_uri": "https://localhost:8080/",
          "height": 51
        },
        "outputId": "cd0b3f90-32cf-44f8-bb43-6c7bc1111a03"
      },
      "source": [
        "#If we want to be able to access the stdout for debugging, we need to use the following wrapper function.\n",
        "run_and_print(run, 1, 1, array_in, array_out)"
      ],
      "execution_count": 16,
      "outputs": [
        {
          "output_type": "stream",
          "text": [
            "blockIdx 0 blockDim 1 threadIdx 0\n",
            "\n"
          ],
          "name": "stdout"
        }
      ]
    },
    {
      "cell_type": "code",
      "metadata": {
        "id": "fWudeSOulSc7",
        "colab_type": "code",
        "colab": {
          "base_uri": "https://localhost:8080/",
          "height": 119
        },
        "outputId": "228e03b2-3ce0-4809-c844-dd15516d2935"
      },
      "source": [
        "#Now lets run 5 threads in one block.\n",
        "run_and_print(run, 1, 5, array_in, array_out)"
      ],
      "execution_count": 17,
      "outputs": [
        {
          "output_type": "stream",
          "text": [
            "blockIdx 0 blockDim 5 threadIdx 0\n",
            "blockIdx 0 blockDim 5 threadIdx 1\n",
            "blockIdx 0 blockDim 5 threadIdx 2\n",
            "blockIdx 0 blockDim 5 threadIdx 3\n",
            "blockIdx 0 blockDim 5 threadIdx 4\n",
            "\n"
          ],
          "name": "stdout"
        }
      ]
    },
    {
      "cell_type": "code",
      "metadata": {
        "id": "dPGZoB_plzgv",
        "colab_type": "code",
        "colab": {
          "base_uri": "https://localhost:8080/",
          "height": 204
        },
        "outputId": "258d8f11-6dca-4707-830e-9687d1282418"
      },
      "source": [
        "#Now let's run it on two blocks, 5 threads each.\n",
        "run_and_print(run, 2, 5, array_in, array_out)"
      ],
      "execution_count": 18,
      "outputs": [
        {
          "output_type": "stream",
          "text": [
            "blockIdx 0 blockDim 5 threadIdx 0\n",
            "blockIdx 0 blockDim 5 threadIdx 1\n",
            "blockIdx 0 blockDim 5 threadIdx 2\n",
            "blockIdx 0 blockDim 5 threadIdx 3\n",
            "blockIdx 0 blockDim 5 threadIdx 4\n",
            "blockIdx 1 blockDim 5 threadIdx 0\n",
            "blockIdx 1 blockDim 5 threadIdx 1\n",
            "blockIdx 1 blockDim 5 threadIdx 2\n",
            "blockIdx 1 blockDim 5 threadIdx 3\n",
            "blockIdx 1 blockDim 5 threadIdx 4\n",
            "\n"
          ],
          "name": "stdout"
        }
      ]
    },
    {
      "cell_type": "markdown",
      "metadata": {
        "id": "Vw1blKJnQbnO",
        "colab_type": "text"
      },
      "source": [
        "# 3. Process an array with a CUDA kernel"
      ]
    },
    {
      "cell_type": "markdown",
      "metadata": {
        "id": "rkMHqerZjDMO",
        "colab_type": "text"
      },
      "source": [
        "We can use the block and thread indices to process individual array elements in different threads."
      ]
    },
    {
      "cell_type": "code",
      "metadata": {
        "id": "GsS1uU2joJCe",
        "colab_type": "code",
        "colab": {}
      },
      "source": [
        "@cuda.jit\n",
        "def example_kernel_idx(array_in, array_out):\n",
        "  idx = cuda.blockIdx.x * cuda.blockDim.x + cuda.threadIdx.x\n",
        "  #just a simple example transformation within the kernel\n",
        "  array_out[idx] = 2.0 * array_in[idx]\n",
        "  print(\"blockIdx\", cuda.blockIdx.x, \"blockDim\", cuda.blockDim.x, \"threadIdx\", cuda.threadIdx.x, \"idx\", idx)\n",
        "\n",
        "def run(nblocks, nthreads):\n",
        "    example_kernel_idx[nblocks, nthreads](array_in, array_out)\n",
        "    cuda.synchronize()"
      ],
      "execution_count": 19,
      "outputs": []
    },
    {
      "cell_type": "code",
      "metadata": {
        "id": "__DES6Lc0qRE",
        "colab_type": "code",
        "colab": {
          "base_uri": "https://localhost:8080/",
          "height": 51
        },
        "outputId": "4efd1111-ab19-4f59-b402-548d5d377940"
      },
      "source": [
        "array_in"
      ],
      "execution_count": 21,
      "outputs": [
        {
          "output_type": "execute_result",
          "data": {
            "text/plain": [
              "array([36.25315 , 32.198524, 30.101957, 25.440208, 21.077322, 20.530226,\n",
              "       19.067327, 18.728504, 18.648342, 17.87829 ], dtype=float32)"
            ]
          },
          "metadata": {
            "tags": []
          },
          "execution_count": 21
        }
      ]
    },
    {
      "cell_type": "code",
      "metadata": {
        "id": "DIyx7M_0oXnb",
        "colab_type": "code",
        "colab": {
          "base_uri": "https://localhost:8080/",
          "height": 238
        },
        "outputId": "fba251fe-3396-47fd-d242-42cf9b164e3f"
      },
      "source": [
        "array_out[:] = 0.0\n",
        "run_and_print(run, 2, 5)\n",
        "array_out"
      ],
      "execution_count": 20,
      "outputs": [
        {
          "output_type": "stream",
          "text": [
            "blockIdx 0 blockDim 5 threadIdx 0 idx 0\n",
            "blockIdx 0 blockDim 5 threadIdx 1 idx 1\n",
            "blockIdx 0 blockDim 5 threadIdx 2 idx 2\n",
            "blockIdx 0 blockDim 5 threadIdx 3 idx 3\n",
            "blockIdx 0 blockDim 5 threadIdx 4 idx 4\n",
            "blockIdx 1 blockDim 5 threadIdx 0 idx 5\n",
            "blockIdx 1 blockDim 5 threadIdx 1 idx 6\n",
            "blockIdx 1 blockDim 5 threadIdx 2 idx 7\n",
            "blockIdx 1 blockDim 5 threadIdx 3 idx 8\n",
            "blockIdx 1 blockDim 5 threadIdx 4 idx 9\n",
            "\n"
          ],
          "name": "stdout"
        },
        {
          "output_type": "execute_result",
          "data": {
            "text/plain": [
              "array([72.5063  , 64.39705 , 60.203915, 50.880417, 42.154644, 41.06045 ,\n",
              "       38.134655, 37.45701 , 37.296684, 35.75658 ], dtype=float32)"
            ]
          },
          "metadata": {
            "tags": []
          },
          "execution_count": 20
        }
      ]
    },
    {
      "cell_type": "markdown",
      "metadata": {
        "id": "-LDwG7cyj3Lu",
        "colab_type": "text"
      },
      "source": [
        "This approach requires you to choose the block size appropriately for the data array. Numba has helper functions to simplify thread and block indexing. In the following, we create a 1D grid and use threads to process slices of the input array.\n"
      ]
    },
    {
      "cell_type": "code",
      "metadata": {
        "id": "y2sjQj-Go1RL",
        "colab_type": "code",
        "colab": {
          "base_uri": "https://localhost:8080/",
          "height": 204
        },
        "outputId": "0ce1a057-7a08-4923-e553-1ec115de5560"
      },
      "source": [
        "@cuda.jit\n",
        "def example_kernel_grid(array_in, array_out):\n",
        "  xi = cuda.grid(1)\n",
        "  xstride = cuda.gridsize(1)\n",
        "\n",
        "  #each thread processes a part of the array\n",
        "  for i in range(xi, len(array_in), xstride):\n",
        "    print(\"arrayIdx\", i, \"threadIdx\", cuda.threadIdx.x, \"blockIdx\", cuda.blockIdx.x)\n",
        "\n",
        "def run(nblocks, nthreads):\n",
        "    example_kernel_grid[nblocks, nthreads](array_in, array_out)\n",
        "    cuda.synchronize()\n",
        "\n",
        "#Now we can process the whole array, regardless of size, with a fixed number of threads\n",
        "run_and_print(run, 2, 2)"
      ],
      "execution_count": 22,
      "outputs": [
        {
          "output_type": "stream",
          "text": [
            "arrayIdx 0 threadIdx 0 blockIdx 0\n",
            "arrayIdx 1 threadIdx 1 blockIdx 0\n",
            "arrayIdx 2 threadIdx 0 blockIdx 1\n",
            "arrayIdx 3 threadIdx 1 blockIdx 1\n",
            "arrayIdx 4 threadIdx 0 blockIdx 0\n",
            "arrayIdx 5 threadIdx 1 blockIdx 0\n",
            "arrayIdx 6 threadIdx 0 blockIdx 1\n",
            "arrayIdx 7 threadIdx 1 blockIdx 1\n",
            "arrayIdx 8 threadIdx 0 blockIdx 0\n",
            "arrayIdx 9 threadIdx 1 blockIdx 0\n",
            "\n"
          ],
          "name": "stdout"
        }
      ]
    },
    {
      "cell_type": "markdown",
      "metadata": {
        "id": "3OIvilGmrpDW",
        "colab_type": "text"
      },
      "source": [
        "# 4. Creating a jagged kernel"
      ]
    },
    {
      "cell_type": "code",
      "metadata": {
        "id": "kEFagwWgruD2",
        "colab_type": "code",
        "colab": {
          "base_uri": "https://localhost:8080/",
          "height": 54
        },
        "outputId": "e6fdc483-f18c-4c9c-f695-19422b281419"
      },
      "source": [
        "#Suppose we have the following jagged array with jet pT values in events (in GeV).\n",
        "jet_pt"
      ],
      "execution_count": 23,
      "outputs": [
        {
          "output_type": "execute_result",
          "data": {
            "text/plain": [
              "<JaggedArray [[36.25315 32.198524 30.101957 ... 16.848015 15.487583 15.025305] [23.939432 21.36061 20.008955 ... 16.034006 15.96491 15.766194] [] ... [39.726204 26.98962 18.819519 17.05436 16.62841 16.533186] [23.370874] [31.095316 28.646101 25.23673 ... 18.90005 17.481096 15.94793]] at 0x7f8a420c0f60>"
            ]
          },
          "metadata": {
            "tags": []
          },
          "execution_count": 23
        }
      ]
    },
    {
      "cell_type": "code",
      "metadata": {
        "id": "S5P4EnjWrvPn",
        "colab_type": "code",
        "colab": {
          "base_uri": "https://localhost:8080/",
          "height": 51
        },
        "outputId": "97d8c033-e2ae-4196-bc2d-876ee4c56c3b"
      },
      "source": [
        "#Thanks to awkward-array, we can compute the per-event sum pt in a familiar way.\n",
        "jet_pt.sum()"
      ],
      "execution_count": 24,
      "outputs": [
        {
          "output_type": "execute_result",
          "data": {
            "text/plain": [
              "array([287.28476 , 148.67633 ,   0.      , ..., 135.75131 ,  23.370874,\n",
              "       159.38528 ], dtype=float32)"
            ]
          },
          "metadata": {
            "tags": []
          },
          "execution_count": 24
        }
      ]
    },
    {
      "cell_type": "markdown",
      "metadata": {
        "id": "vcIIxADTkwrc",
        "colab_type": "text"
      },
      "source": [
        "CuPy as a numpy replacement that runs on a CUDA GPU. Simple, universal array functions (e.g. `sin`, `cos`, `sqrt`) can be applied directly using CuPy."
      ]
    },
    {
      "cell_type": "code",
      "metadata": {
        "id": "J7sanM5QlBYM",
        "colab_type": "code",
        "colab": {
          "base_uri": "https://localhost:8080/",
          "height": 51
        },
        "outputId": "be478493-e259-4da1-9d1b-e990eab7b7bd"
      },
      "source": [
        "import cupy\n",
        "jet_pt_cuda = cupy.array(jet_pt.content)\n",
        "jet_phi_cuda = cupy.array(jet_phi.content)\n",
        "jet_px_cuda = jet_pt_cuda * cupy.cos(jet_phi_cuda)\n",
        "jet_px_cuda"
      ],
      "execution_count": 25,
      "outputs": [
        {
          "output_type": "execute_result",
          "data": {
            "text/plain": [
              "array([ 36.249035 , -21.061077 , -26.66455  , ..., -13.444077 ,\n",
              "        -1.4825487,  -1.8367302], dtype=float32)"
            ]
          },
          "metadata": {
            "tags": []
          },
          "execution_count": 25
        }
      ]
    },
    {
      "cell_type": "markdown",
      "metadata": {
        "id": "kpC_JEJ-z1nd",
        "colab_type": "text"
      },
      "source": [
        "We can also compare the speed of CuPy and numpy (single-thread)."
      ]
    },
    {
      "cell_type": "code",
      "metadata": {
        "id": "6HbVXPkJBrkv",
        "colab_type": "code",
        "colab": {
          "base_uri": "https://localhost:8080/",
          "height": 34
        },
        "outputId": "ff2eff2f-9426-40d6-d190-757993749a26"
      },
      "source": [
        "%timeit np.cos(jet_phi.content)*jet_pt.content"
      ],
      "execution_count": 26,
      "outputs": [
        {
          "output_type": "stream",
          "text": [
            "10 loops, best of 3: 97.8 ms per loop\n"
          ],
          "name": "stdout"
        }
      ]
    },
    {
      "cell_type": "code",
      "metadata": {
        "id": "Z-cxM6juCKb_",
        "colab_type": "code",
        "colab": {
          "base_uri": "https://localhost:8080/",
          "height": 34
        },
        "outputId": "e1bbdec0-eb75-470a-bf96-727aca517c84"
      },
      "source": [
        "%timeit cupy.cos(jet_phi_cuda)*jet_pt_cuda"
      ],
      "execution_count": 27,
      "outputs": [
        {
          "output_type": "stream",
          "text": [
            "1000 loops, best of 3: 383 µs per loop\n"
          ],
          "name": "stdout"
        }
      ]
    },
    {
      "cell_type": "markdown",
      "metadata": {
        "id": "mI12iwQuld7r",
        "colab_type": "text"
      },
      "source": [
        "What about computing event-wise quantities with jagged arrays? Normally, we would do this with awkward, using `jet_pt.sum()` to get the per-event jet $p_t$ sum. In order to run this on a GPU, we can use the awkward array structure to write a specialized kernel for computing this jagged sum. Note that the awkward1 release has support for GPU kernels, therefore this approach with numba should be considered as purely illustrational / a stop-gap.\n",
        "\n",
        "We can interpret the 1-deep jagged array using the float32 content array and the int64 offset array. Note that this is specific to the old version of awkward and will be different in awkward1."
      ]
    },
    {
      "cell_type": "code",
      "metadata": {
        "id": "IC6Ar3fbge14",
        "colab_type": "code",
        "colab": {}
      },
      "source": [
        "@cuda.jit\n",
        "def sum_in_offsets(offsets: numba.int64[:], content: numba.float32[:], out: numba.float32[:]):\n",
        "  xi = cuda.grid(1)\n",
        "  xstride = cuda.gridsize(1)\n",
        "\n",
        "  #each thread gets a chunk of the events\n",
        "  #each event is only processed by one thread, once\n",
        "  for iev in range(xi, offsets.shape[0] - 1, xstride):\n",
        "\n",
        "    #process the jets in the event within the thread\n",
        "    #Note that this naive way will cause threads within the same block to\n",
        "    #possibly process a varying number of jets, causing thread divergence and resulting\n",
        "    #in inefficiency. Nevertheless, we can give it a try.\n",
        "    start = offsets[iev]\n",
        "    end = offsets[iev + 1]\n",
        "\n",
        "    for ielem in range(start, end):\n",
        "      out[iev] += content[ielem]"
      ],
      "execution_count": 28,
      "outputs": []
    },
    {
      "cell_type": "code",
      "metadata": {
        "id": "yNNOqinvhv43",
        "colab_type": "code",
        "colab": {}
      },
      "source": [
        "array_in = cupy.array(jet_pt.content)\n",
        "array_offsets = cupy.array(jet_pt.offsets)\n",
        "array_out = cupy.zeros(len(jet_pt.offsets) - 1, dtype=cupy.float32)\n",
        "\n",
        "sum_in_offsets[256, 1024](array_offsets, array_in, array_out); cuda.synchronize();"
      ],
      "execution_count": 29,
      "outputs": []
    },
    {
      "cell_type": "code",
      "metadata": {
        "id": "3_mPDbo9q1zw",
        "colab_type": "code",
        "colab": {
          "base_uri": "https://localhost:8080/",
          "height": 51
        },
        "outputId": "6a0b4956-10ca-4abc-a4bd-f00b9bcb68ce"
      },
      "source": [
        "array_out"
      ],
      "execution_count": 30,
      "outputs": [
        {
          "output_type": "execute_result",
          "data": {
            "text/plain": [
              "array([287.28476 , 148.67632 ,   0.      , ..., 135.7513  ,  23.370874,\n",
              "       159.38528 ], dtype=float32)"
            ]
          },
          "metadata": {
            "tags": []
          },
          "execution_count": 30
        }
      ]
    },
    {
      "cell_type": "code",
      "metadata": {
        "id": "lw2ycVmCq0xX",
        "colab_type": "code",
        "colab": {
          "base_uri": "https://localhost:8080/",
          "height": 51
        },
        "outputId": "912f29dc-0900-4752-ce96-8d7a3a067106"
      },
      "source": [
        "jet_pt.sum()"
      ],
      "execution_count": 31,
      "outputs": [
        {
          "output_type": "execute_result",
          "data": {
            "text/plain": [
              "array([287.28476 , 148.67633 ,   0.      , ..., 135.75131 ,  23.370874,\n",
              "       159.38528 ], dtype=float32)"
            ]
          },
          "metadata": {
            "tags": []
          },
          "execution_count": 31
        }
      ]
    },
    {
      "cell_type": "markdown",
      "metadata": {
        "id": "eNF4T2CPsR2Y",
        "colab_type": "text"
      },
      "source": [
        "Small differences from floating point arithmetics can be expected, but we can see that the GPU code returns the same result for this 1-deep jagged array as awkward-array. For more complicated nesting structures, awkward1 should be preferred.\n",
        "\n",
        "We can also observe that the CUDA code is relatively fast compared to a single CPU thread:\n"
      ]
    },
    {
      "cell_type": "code",
      "metadata": {
        "id": "aQdbWtf8gfTu",
        "colab_type": "code",
        "colab": {
          "base_uri": "https://localhost:8080/",
          "height": 34
        },
        "outputId": "89d6cfae-f132-4b3d-ce14-0171fa085079"
      },
      "source": [
        "%timeit jet_pt.sum()"
      ],
      "execution_count": 32,
      "outputs": [
        {
          "output_type": "stream",
          "text": [
            "10 loops, best of 3: 96.8 ms per loop\n"
          ],
          "name": "stdout"
        }
      ]
    },
    {
      "cell_type": "code",
      "metadata": {
        "id": "d8fZlKGerRED",
        "colab_type": "code",
        "colab": {
          "base_uri": "https://localhost:8080/",
          "height": 34
        },
        "outputId": "845f78cc-8eb6-4815-daea-c81bf122b12a"
      },
      "source": [
        "#Note, this does not include array allocation time\n",
        "%timeit sum_in_offsets[256, 1024](array_offsets, array_in, array_out); cuda.synchronize();"
      ],
      "execution_count": 33,
      "outputs": [
        {
          "output_type": "stream",
          "text": [
            "1000 loops, best of 3: 1.14 ms per loop\n"
          ],
          "name": "stdout"
        }
      ]
    },
    {
      "cell_type": "markdown",
      "metadata": {
        "id": "Dqq3RrOyQw5I",
        "colab_type": "text"
      },
      "source": [
        "# 5. Computing the invariant mass"
      ]
    },
    {
      "cell_type": "markdown",
      "metadata": {
        "id": "HGIa9OzZsaGU",
        "colab_type": "text"
      },
      "source": [
        "Now let's compute the invariant mass of jets in the event."
      ]
    },
    {
      "cell_type": "code",
      "metadata": {
        "id": "eSRkfTdQejzj",
        "colab_type": "code",
        "colab": {}
      },
      "source": [
        "#device functions can be used to compute quantities within kernels\n",
        "@cuda.jit(device=True)\n",
        "def spherical_to_cartesian_devfunc(pt: numba.float32, eta: numba.float32, phi: numba.float32, mass: numba.float32):\n",
        "    px = pt * math.cos(phi)\n",
        "    py = pt * math.sin(phi)\n",
        "    pz = pt * math.sinh(eta)\n",
        "    e = math.sqrt(px**2 + py**2 + pz**2 + mass**2)\n",
        "    return px, py, pz, e\n",
        "\n",
        "@cuda.jit\n",
        "def spherical_to_cartesian_kernel(\n",
        "    offsets: numba.int64[:],\n",
        "    pt: numba.float32[:],\n",
        "    eta: numba.float32[:],\n",
        "    phi: numba.float32[:],\n",
        "    mass: numba.float32[:],\n",
        "    out_inv_mass: numba.float32[:]):\n",
        "    xi = cuda.grid(1)\n",
        "    xstride = cuda.gridsize(1)\n",
        "\n",
        "    for iev in range(xi, offsets.shape[0] - 1, xstride):\n",
        "        sum_px = 0.0\n",
        "        sum_py = 0.0\n",
        "        sum_pz = 0.0\n",
        "        sum_e = 0.0\n",
        "\n",
        "        start = offsets[iev]\n",
        "        end = offsets[iev + 1]\n",
        "        for ielem in range(start, end):\n",
        "            px, py, pz, e = spherical_to_cartesian_devfunc(pt[ielem], eta[ielem], phi[ielem], mass[ielem])\n",
        "            sum_px += px\n",
        "            sum_py += py\n",
        "            sum_pz += pz\n",
        "            sum_e += e\n",
        "        inv_mass = math.sqrt(-(sum_px**2 + sum_py**2 + sum_pz**2 - sum_e**2))\n",
        "        out_inv_mass[iev] = inv_mass"
      ],
      "execution_count": 34,
      "outputs": []
    },
    {
      "cell_type": "code",
      "metadata": {
        "id": "D-vSDIluCqb7",
        "colab_type": "code",
        "colab": {
          "base_uri": "https://localhost:8080/",
          "height": 51
        },
        "outputId": "992b7480-a1ed-4fbf-dba9-26acc922d8e0"
      },
      "source": [
        "jet_offsets_cuda = cupy.array(jet_pt.offsets)\n",
        "jet_pt_cuda = cupy.array(jet_pt.content, dtype=cupy.float32)\n",
        "jet_eta_cuda = cupy.array(jet_eta.content, dtype=cupy.float32)\n",
        "jet_phi_cuda = cupy.array(jet_phi.content, dtype=cupy.float32)\n",
        "jet_mass_cuda = cupy.array(jet_mass.content, dtype=cupy.float32)\n",
        "inv_mass = cupy.zeros(len(jet_offsets_cuda)-1, dtype=cupy.float32)\n",
        "\n",
        "spherical_to_cartesian_kernel[256, 1024](\n",
        "  jet_offsets_cuda, jet_pt_cuda, jet_eta_cuda, jet_phi_cuda, jet_mass_cuda,\n",
        "  inv_mass\n",
        "  )\n",
        "cuda.synchronize()\n",
        "inv_mass"
      ],
      "execution_count": 35,
      "outputs": [
        {
          "output_type": "execute_result",
          "data": {
            "text/plain": [
              "array([3978.8018   , 2970.2861   ,   -0.       , ..., 1041.2786   ,\n",
              "          6.9527335, 1149.807    ], dtype=float32)"
            ]
          },
          "metadata": {
            "tags": []
          },
          "execution_count": 35
        }
      ]
    },
    {
      "cell_type": "markdown",
      "metadata": {
        "id": "y-O3Ntyb_GOj",
        "colab_type": "text"
      },
      "source": [
        "We can create a simple histogram from this data using cupy:"
      ]
    },
    {
      "cell_type": "code",
      "metadata": {
        "id": "ZPZSeOVK_JQv",
        "colab_type": "code",
        "colab": {
          "base_uri": "https://localhost:8080/",
          "height": 293
        },
        "outputId": "a37515d1-b15a-41c5-9bfc-506e533b2705"
      },
      "source": [
        "contents, bin_edges = cupy.histogram(inv_mass, cupy.linspace(0,10000,100, dtype=cupy.float32))\n",
        "mplhep.histplot(cupy.asnumpy(contents), cupy.asnumpy(bin_edges))"
      ],
      "execution_count": 36,
      "outputs": [
        {
          "output_type": "execute_result",
          "data": {
            "text/plain": [
              "<matplotlib.axes._subplots.AxesSubplot at 0x7f89d1782748>"
            ]
          },
          "metadata": {
            "tags": []
          },
          "execution_count": 36
        },
        {
          "output_type": "display_data",
          "data": {
            "image/png": "[encoded data removed]",
            "text/plain": [
              "<Figure size 432x288 with 1 Axes>"
            ]
          },
          "metadata": {
            "tags": [],
            "needs_background": "light"
          }
        }
      ]
    },
    {
      "cell_type": "markdown",
      "metadata": {
        "id": "MqJHrKXU98uc",
        "colab_type": "text"
      },
      "source": [
        "Weighted histograms are not supported out of the box in `cupy`, so we create our own method. This also serves as a good example on how to use atomic operations."
      ]
    },
    {
      "cell_type": "code",
      "metadata": {
        "id": "oQffIZBiWPHu",
        "colab_type": "code",
        "colab": {}
      },
      "source": [
        "@cuda.jit\n",
        "def fill_histogram(\n",
        "    data: numba.float32[:],\n",
        "    weights: numba.float32[:],\n",
        "    bins: numba.float32[:],\n",
        "    out_w: numba.float32[:, :],\n",
        "    out_w2: numba.float32[:, :]):\n",
        "  \n",
        "    assert(len(data) == len(weights))\n",
        "    assert(len(bins)-1 == out_w.shape[1])\n",
        "    assert(len(bins)-1 == out_w2.shape[1])\n",
        "\n",
        "    xi = cuda.grid(1)\n",
        "    xstride = cuda.gridsize(1)\n",
        "\n",
        "    bi = cuda.blockIdx.x\n",
        "    bd = cuda.blockDim.x\n",
        "    ti = cuda.threadIdx.x\n",
        "    \n",
        "    nbins = out_w.shape[1]\n",
        "\n",
        "    #loop over the data array \n",
        "    for i in range(xi, len(data), xstride):\n",
        "        #numba.cuda does not support searchsorted, so we need to define our own method\n",
        "        #bin_idx = np.searchsorted(bins, data[i])\n",
        "        bin_idx = searchsorted_devfunc_right(bins, data[i]) - 1\n",
        "\n",
        "        #put overflow in the last visible bin, as is typica for ROOT histograms\n",
        "        if bin_idx >= nbins:\n",
        "            bin_idx = nbins - 1\n",
        "\n",
        "        #here we define a 2D index based on the block and bin \n",
        "        bin_idx_histo = (bi, bin_idx)\n",
        "\n",
        "        if bin_idx >= 0 and bin_idx < nbins:\n",
        "            wi = weights[i]\n",
        "            #In order to prevent a race condition, we need to add the weights to the bin\n",
        "            #contents atomically. As we use the block index as an additional temporary indexing dimension\n",
        "            #for the histogram, threads can block each other only within the block.\n",
        "\n",
        "            cuda.atomic.add(out_w, bin_idx_histo, wi)\n",
        "            cuda.atomic.add(out_w2, bin_idx_histo, wi ** 2)\n",
        "\n",
        "# Copied from numba source\n",
        "@cuda.jit(device=True)\n",
        "def searchsorted_inner_right(a, v):\n",
        "    n = len(a)\n",
        "    lo = np.int32(0)\n",
        "    hi = np.int32(n)\n",
        "    while hi > lo:\n",
        "        mid = (lo + hi) >> 1\n",
        "        if a[mid] <= v:\n",
        "            # mid is too low => go up\n",
        "            lo = mid + 1\n",
        "        else:\n",
        "            # mid is too high, or is a NaN => go down\n",
        "            hi = mid\n",
        "    return lo\n",
        "\n",
        "@cuda.jit(device=True)\n",
        "def searchsorted_devfunc_right(bins, val):\n",
        "    ret = searchsorted_inner_right(bins, val)\n",
        "    if val < bins[0]:\n",
        "        ret = 0\n",
        "    if val >= bins[len(bins) - 1]:\n",
        "        ret = len(bins) - 1\n",
        "    return ret"
      ],
      "execution_count": 37,
      "outputs": []
    },
    {
      "cell_type": "code",
      "metadata": {
        "id": "_o74vIicWd3Q",
        "colab_type": "code",
        "colab": {}
      },
      "source": [
        "arr = cupy.random.randn(1000000, dtype=cupy.float32)\n",
        "weights = cupy.ones_like(arr)\n",
        "\n",
        "bins = cupy.linspace(-5,5, 100, dtype=cupy.float32)\n",
        "\n",
        "nblocks = 128\n",
        "nthreads = 1024\n",
        "out_w = cupy.zeros((nblocks, len(bins) - 1), dtype=cupy.float32)\n",
        "out_w2 = cupy.zeros((nblocks, len(bins) - 1), dtype=cupy.float32)\n",
        "\n",
        "fill_histogram[nblocks, nthreads](arr, weights, bins, out_w, out_w2)\n",
        "cuda.synchronize()\n",
        "\n",
        "histo_w = cupy.asnumpy(out_w.sum(axis=0))\n",
        "histo_w2 = cupy.asnumpy(out_w2.sum(axis=0))"
      ],
      "execution_count": 43,
      "outputs": []
    },
    {
      "cell_type": "code",
      "metadata": {
        "id": "m18QNMQ-vEzI",
        "colab_type": "code",
        "colab": {
          "base_uri": "https://localhost:8080/",
          "height": 282
        },
        "outputId": "f0f48b90-4c0f-4a45-bf99-45f03025b1c4"
      },
      "source": [
        "#Comparing the cupy and numpy histogram functions\n",
        "mplhep.histplot(cupy.asnumpy(cupy.histogram(arr, bins=bins)[0]), cupy.asnumpy(bins), ls=\"-\", color=\"blue\")\n",
        "mplhep.histplot(np.histogram(cupy.asnumpy(arr), bins=cupy.asnumpy(bins))[0], cupy.asnumpy(bins), ls=\"--\", color=\"red\")"
      ],
      "execution_count": 39,
      "outputs": [
        {
          "output_type": "execute_result",
          "data": {
            "text/plain": [
              "<matplotlib.axes._subplots.AxesSubplot at 0x7f89d1771e10>"
            ]
          },
          "metadata": {
            "tags": []
          },
          "execution_count": 39
        },
        {
          "output_type": "display_data",
          "data": {
            "image/png": "[encoded data removed]",
            "text/plain": [
              "<Figure size 432x288 with 1 Axes>"
            ]
          },
          "metadata": {
            "tags": [],
            "needs_background": "light"
          }
        }
      ]
    },
    {
      "cell_type": "code",
      "metadata": {
        "id": "z-q_-qVLvJgB",
        "colab_type": "code",
        "colab": {
          "base_uri": "https://localhost:8080/",
          "height": 282
        },
        "outputId": "5dd10c31-806e-4ee5-bb1d-778b67192289"
      },
      "source": [
        "#Comparing our custom weighted histogram with numpy/cupy\n",
        "mplhep.histplot(histo_w, cupy.asnumpy(bins), yerr=np.sqrt(histo_w2), lw=0.5)\n",
        "mplhep.histplot(np.histogram(cupy.asnumpy(arr), bins=cupy.asnumpy(bins))[0], cupy.asnumpy(bins), ls=\"-\", lw=0.5, color=\"red\")"
      ],
      "execution_count": 40,
      "outputs": [
        {
          "output_type": "execute_result",
          "data": {
            "text/plain": [
              "<matplotlib.axes._subplots.AxesSubplot at 0x7f89d165fb70>"
            ]
          },
          "metadata": {
            "tags": []
          },
          "execution_count": 40
        },
        {
          "output_type": "display_data",
          "data": {
            "image/png": "[encoded data removed]",
            "text/plain": [
              "<Figure size 432x288 with 1 Axes>"
            ]
          },
          "metadata": {
            "tags": [],
            "needs_background": "light"
          }
        }
      ]
    },
    {
      "cell_type": "code",
      "metadata": {
        "id": "bUsw1mh9BKDP",
        "colab_type": "code",
        "colab": {
          "base_uri": "https://localhost:8080/",
          "height": 34
        },
        "outputId": "f360c28b-d52b-471c-d9b8-199321430722"
      },
      "source": [
        "def test1():\n",
        "  fill_histogram[nblocks, nthreads](arr, weights, bins, out_w, out_w2)\n",
        "  cuda.synchronize()\n",
        "\n",
        "%timeit test1()"
      ],
      "execution_count": 44,
      "outputs": [
        {
          "output_type": "stream",
          "text": [
            "1000 loops, best of 3: 1.12 ms per loop\n"
          ],
          "name": "stdout"
        }
      ]
    },
    {
      "cell_type": "code",
      "metadata": {
        "id": "XbgNTM2jBX8W",
        "colab_type": "code",
        "colab": {
          "base_uri": "https://localhost:8080/",
          "height": 34
        },
        "outputId": "8cc819e9-ac67-41d8-935e-da2c8d3b36a4"
      },
      "source": [
        "arr_np = cupy.asnumpy(arr)\n",
        "bins_np = cupy.asnumpy(bins)\n",
        "\n",
        "%timeit np.histogram(arr_np, bins_np)"
      ],
      "execution_count": 45,
      "outputs": [
        {
          "output_type": "stream",
          "text": [
            "10 loops, best of 3: 70.8 ms per loop\n"
          ],
          "name": "stdout"
        }
      ]
    },
    {
      "cell_type": "markdown",
      "metadata": {
        "id": "JKGm8Y1b0mh6",
        "colab_type": "text"
      },
      "source": [
        "# 6. Putting it together: Analysis Description Languages exercise 7."
      ]
    },
    {
      "cell_type": "markdown",
      "metadata": {
        "id": "vHEPZ5QkQ-z7",
        "colab_type": "text"
      },
      "source": [
        "Plot the sum of pT of jets with pT > 30 GeV that are not within 0.4 in ΔR of any lepton with pT > 10 GeV."
      ]
    },
    {
      "cell_type": "code",
      "metadata": {
        "id": "DkwvVpnq0ohw",
        "colab_type": "code",
        "colab": {}
      },
      "source": [
        "nblocks = 64\n",
        "nthreads = 256\n",
        "\n",
        "#This is a naive implementation and might result in thread divergence.\n",
        "#Nevertheless, let's start here.\n",
        "@cuda.jit(device=True)\n",
        "def deltaphi_devfunc(phi1, phi2):\n",
        "    dphi = phi1 - phi2\n",
        "    out_dphi = 0\n",
        "    if dphi > math.pi:\n",
        "        dphi = dphi - 2 * math.pi\n",
        "        out_dphi = dphi\n",
        "    elif (dphi + math.pi) < 0:\n",
        "        dphi = dphi + 2 * math.pi\n",
        "        out_dphi = dphi\n",
        "    else:\n",
        "        out_dphi = dphi\n",
        "    return out_dphi\n",
        "\n",
        "#This kernel masks objects in the first collection based on proximity to the second\n",
        "#collection.\n",
        "@cuda.jit\n",
        "def mask_deltar_first_cudakernel(\n",
        "    etas1, phis1, mask1, offsets1, etas2, phis2, mask2, offsets2, dr2, mask_out\n",
        "):\n",
        "    xi = cuda.grid(1)\n",
        "    xstride = cuda.gridsize(1)\n",
        "\n",
        "    for iev in range(xi, len(offsets1) - 1, xstride):\n",
        "        a1 = np.uint64(offsets1[iev])\n",
        "        b1 = np.uint64(offsets1[iev + 1])\n",
        "\n",
        "        a2 = np.uint64(offsets2[iev])\n",
        "        b2 = np.uint64(offsets2[iev + 1])\n",
        "\n",
        "        #loop over the first collection\n",
        "        for idx1 in range(a1, b1):\n",
        "            if not mask1[idx1]:\n",
        "                continue\n",
        "\n",
        "            eta1 = np.float32(etas1[idx1])\n",
        "            phi1 = np.float32(phis1[idx1])\n",
        "\n",
        "            #loop over the second collection\n",
        "            for idx2 in range(a2, b2):\n",
        "                if not mask2[idx2]:\n",
        "                    continue\n",
        "\n",
        "                eta2 = np.float32(etas2[idx2])\n",
        "                phi2 = np.float32(phis2[idx2])\n",
        "\n",
        "                deta = abs(eta1 - eta2)\n",
        "                dphi = deltaphi_devfunc(phi1, phi2)\n",
        "\n",
        "                passdr = (deta**2 + dphi**2) < dr2\n",
        "                mask_out[idx1] = passdr\n",
        "\n",
        "#This is the same as we had above, but includes a mask\n",
        "@cuda.jit\n",
        "def sum_in_offsets(offsets, content, mask_rows, mask_content, out):\n",
        "    xi = cuda.grid(1)\n",
        "    xstride = cuda.gridsize(1)\n",
        "\n",
        "    for iev in range(xi, offsets.shape[0] - 1, xstride):\n",
        "        if not mask_rows[iev]:\n",
        "            continue\n",
        "\n",
        "        start = offsets[iev]\n",
        "        end = offsets[iev + 1]\n",
        "        for ielem in range(start, end):\n",
        "            if mask_content[ielem]:\n",
        "                out[iev] += content[ielem]"
      ],
      "execution_count": 46,
      "outputs": []
    },
    {
      "cell_type": "code",
      "metadata": {
        "id": "SgdznRy4RYB9",
        "colab_type": "code",
        "colab": {}
      },
      "source": [
        "jet_offsets = cupy.array(evs.array(\"Jet_pt\").offsets)\n",
        "jet_pt = cupy.array(evs.array(\"Jet_pt\").content)\n",
        "jet_eta = cupy.array(evs.array(\"Jet_eta\").content)\n",
        "jet_phi = cupy.array(evs.array(\"Jet_phi\").content)\n",
        "jet_mass = cupy.array(evs.array(\"Jet_mass\").content)\n",
        "\n",
        "mu_offsets = cupy.array(evs.array(\"Muon_pt\").offsets)\n",
        "mu_pt = cupy.array(evs.array(\"Muon_pt\").content)\n",
        "mu_eta = cupy.array(evs.array(\"Muon_eta\").content)\n",
        "mu_phi = cupy.array(evs.array(\"Muon_phi\").content)\n",
        "\n",
        "#Choose the passing muons and jets\n",
        "mask_mu = mu_pt > 10.0\n",
        "mask_jet = jet_pt > 30.0\n",
        "mask_jet_dr = cupy.zeros(len(mask_jet), dtype=cupy.bool)"
      ],
      "execution_count": 47,
      "outputs": []
    },
    {
      "cell_type": "code",
      "metadata": {
        "id": "KCSfd31xRagc",
        "colab_type": "code",
        "colab": {}
      },
      "source": [
        "#Find which jets are closer than dR<0.4 to the muons\n",
        "mask_deltar_first_cudakernel[nblocks, nthreads](\n",
        "    jet_eta, jet_phi, mask_jet, jet_offsets,\n",
        "    mu_eta, mu_phi, mask_mu, mu_offsets, 0.4**2, mask_jet_dr)\n",
        "cuda.synchronize()\n",
        "\n",
        "#Choose the final jets\n",
        "\n",
        " = mask_jet & ~mask_jet_dr"
      ],
      "execution_count": 48,
      "outputs": []
    },
    {
      "cell_type": "code",
      "metadata": {
        "id": "avXENbCe4--R",
        "colab_type": "code",
        "colab": {
          "base_uri": "https://localhost:8080/",
          "height": 34
        },
        "outputId": "8ed75ec4-0e21-49e1-be7c-fa336fe303c6"
      },
      "source": [
        "selected_jets"
      ],
      "execution_count": 49,
      "outputs": [
        {
          "output_type": "execute_result",
          "data": {
            "text/plain": [
              "array([ True,  True,  True, ..., False, False, False])"
            ]
          },
          "metadata": {
            "tags": []
          },
          "execution_count": 49
        }
      ]
    },
    {
      "cell_type": "code",
      "metadata": {
        "id": "FWj4qaDmRc2s",
        "colab_type": "code",
        "colab": {
          "base_uri": "https://localhost:8080/",
          "height": 51
        },
        "outputId": "06f4bccf-5deb-4a2a-83a9-5129463d0a13"
      },
      "source": [
        "#Now compute the sum pt\n",
        "nev = len(jet_offsets) - 1\n",
        "sum_pt = cupy.zeros(nev, dtype=cupy.float32)\n",
        "sum_in_offsets[nblocks, nthreads](\n",
        "    jet_offsets, jet_pt,\n",
        "    cupy.ones(nev, dtype=cupy.bool),\n",
        "    selected_jets,\n",
        "    sum_pt)\n",
        "cuda.synchronize()\n",
        "sum_pt"
      ],
      "execution_count": 51,
      "outputs": [
        {
          "output_type": "execute_result",
          "data": {
            "text/plain": [
              "array([98.553635,  0.      ,  0.      , ..., 39.726204,  0.      ,\n",
              "       31.095316], dtype=float32)"
            ]
          },
          "metadata": {
            "tags": []
          },
          "execution_count": 51
        }
      ]
    },
    {
      "cell_type": "code",
      "metadata": {
        "id": "8ac7NcQzRfB-",
        "colab_type": "code",
        "colab": {}
      },
      "source": [
        "#now fill the histogram\n",
        "weights = cupy.ones(nev, dtype=cupy.float32)\n",
        "bins = cupy.linspace(50, 500, 100, dtype=cupy.float32)\n",
        "out_w = cupy.zeros((nblocks, len(bins) - 1), dtype=cupy.float32)\n",
        "out_w2 = cupy.zeros((nblocks, len(bins) - 1), dtype=cupy.float32)\n",
        "\n",
        "mask_events = sum_pt > 90.0"
      ],
      "execution_count": 52,
      "outputs": []
    },
    {
      "cell_type": "code",
      "metadata": {
        "id": "oOz_40CuRhg1",
        "colab_type": "code",
        "colab": {}
      },
      "source": [
        "fill_histogram[nblocks, nthreads](sum_pt[mask_events], weights[mask_events], bins, out_w, out_w2)\n",
        "cuda.synchronize()\n",
        "\n",
        "hist_content = cupy.asnumpy(out_w.sum(axis=0))\n",
        "hist_content2 = cupy.asnumpy(out_w2.sum(axis=0))\n",
        "bins = cupy.asnumpy(bins)"
      ],
      "execution_count": 53,
      "outputs": []
    },
    {
      "cell_type": "code",
      "metadata": {
        "id": "QpE3Q3CO2XdD",
        "colab_type": "code",
        "colab": {
          "base_uri": "https://localhost:8080/",
          "height": 268
        },
        "outputId": "2b9502ef-6dc6-4c72-ad30-505834ed405b"
      },
      "source": [
        "mplhep.histplot(hist_content, bins, yerr=np.sqrt(hist_content2))\n",
        "plt.yscale(\"log\")"
      ],
      "execution_count": 54,
      "outputs": [
        {
          "output_type": "display_data",
          "data": {
            "image/png": "[encoded data removed]",
            "text/plain": [
              "<Figure size 432x288 with 1 Axes>"
            ]
          },
          "metadata": {
            "tags": [],
            "needs_background": "light"
          }
        }
      ]
    },
    {
      "cell_type": "code",
      "metadata": {
        "id": "SrgPUSlp5QcR",
        "colab_type": "code",
        "colab": {}
      },
      "source": [
        ""
      ],
      "execution_count": null,
      "outputs": []
    }
  ]
}