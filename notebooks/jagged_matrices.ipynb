{
 "cells": [
  {
   "cell_type": "code",
   "execution_count": null,
   "metadata": {},
   "outputs": [],
   "source": [
    "import numpy as np\n",
    "import awkward\n",
    "import uproot\n",
    "\n",
    "import matplotlib\n",
    "\n",
    "fig_width = 5\n",
    "fig_height = 4\n",
    "params = {\n",
    "          #'backend': 'notebook',\n",
    "          'text.latex.preamble': [r'\\usepackage{gensymb}'],\n",
    "          'axes.labelsize': 8, # fontsize for x and y labels (was 10)\n",
    "          'axes.titlesize': 8,\n",
    "          'font.size': 8, # was 10\n",
    "          'text.usetex': False,\n",
    "          'figure.figsize': [fig_width,fig_height],\n",
    "          'font.family': 'serif'\n",
    "}\n",
    "\n",
    "matplotlib.rcParams.update(params)\n",
    "    \n",
    "import matplotlib.pyplot as plt\n",
    "import itertools\n",
    "import numpy as np\n",
    "import numba"
   ]
  },
  {
   "cell_type": "code",
   "execution_count": null,
   "metadata": {},
   "outputs": [],
   "source": [
    "fi = uproot.open(\"../data/nanoaod_test.root\")\n",
    "tt = fi.get(\"Events\")"
   ]
  },
  {
   "cell_type": "code",
   "execution_count": null,
   "metadata": {},
   "outputs": [],
   "source": [
    "pts = tt.array(\"Jet_pt\").content\n",
    "etas = tt.array(\"Jet_eta\").content\n",
    "phis = tt.array(\"Jet_phi\").content\n",
    "\n",
    "offsets = tt.array(\"Jet_pt\").offsets"
   ]
  },
  {
   "cell_type": "code",
   "execution_count": null,
   "metadata": {},
   "outputs": [],
   "source": [
    "pt_jag = awkward.JaggedArray.fromoffsets(np.array(offsets, dtype=np.int64), pts)\n",
    "eta_jag = awkward.JaggedArray.fromoffsets(offsets, etas)\n",
    "phi_jag = awkward.JaggedArray.fromoffsets(offsets, phis)"
   ]
  },
  {
   "cell_type": "code",
   "execution_count": null,
   "metadata": {},
   "outputs": [],
   "source": [
    "def fill_matrix(jag, Nx, Ny):\n",
    "    mat = np.zeros((Nx,Ny), dtype=np.float32)\n",
    "    for i in range(mat.shape[0]):\n",
    "        for j in range(min(jag.counts[i], mat.shape[1])):\n",
    "            mat[i,j] = jag[i][j]\n",
    "    return mat"
   ]
  },
  {
   "cell_type": "code",
   "execution_count": null,
   "metadata": {},
   "outputs": [],
   "source": [
    "Nev = 50\n",
    "Njet = 20\n",
    "mat_pt = fill_matrix(pt_jag, Nev, Njet)\n",
    "mat_eta = fill_matrix(eta_jag, Nev, Njet)\n",
    "mat_phi = fill_matrix(phi_jag, Nev, Njet)"
   ]
  },
  {
   "cell_type": "code",
   "execution_count": null,
   "metadata": {},
   "outputs": [],
   "source": [
    "plt.figure(figsize=(6,4))\n",
    "plt.suptitle(\"Jagged event content: {0} events, up to {1} jets\".format(Nev, Njet), y=1.01, fontsize=14)\n",
    "\n",
    "plt.subplot(1,4,1)\n",
    "#plt.imshow(pt_jag.counts[:Nev].reshape(Nev,1), aspect=100.0 / Nev / Njet / 2, cmap=\"YlOrRd\", interpolation=\"nearest\")\n",
    "plt.pcolormesh(pt_jag.counts[:Nev].reshape(Nev,1), cmap=\"Reds\")\n",
    "plt.gca().invert_yaxis()\n",
    "plt.title(\"$N_{jets}$\")\n",
    "plt.ylabel(\"Event index\")\n",
    "plt.xticks([])\n",
    "plt.colorbar()\n",
    "\n",
    "plt.subplot(1,4,2)\n",
    "#plt.imshow(mat_pt, cmap=\"YlOrRd\", aspect=\"equal\", interpolation=\"nearest\")\n",
    "plt.pcolormesh(mat_pt, cmap=\"YlOrRd\")\n",
    "plt.gca().invert_yaxis()\n",
    "plt.xlabel(\"jet index\")\n",
    "plt.xticks([])\n",
    "plt.yticks([])\n",
    "plt.title(\"$p_T$\")\n",
    "plt.colorbar()\n",
    "\n",
    "plt.subplot(1,4,3)\n",
    "plt.pcolormesh(mat_eta, cmap=\"RdYlBu_r\")\n",
    "plt.gca().invert_yaxis()\n",
    "plt.xticks([])\n",
    "plt.yticks([])\n",
    "plt.xlabel(\"jet index\")\n",
    "plt.title(\"$\\eta$\")\n",
    "plt.colorbar()\n",
    "\n",
    "plt.subplot(1,4,4)\n",
    "#plt.imshow(mat_phi, cmap=\"RdYlBu_r\", aspect=\"equal\", interpolation=\"nearest\")\n",
    "plt.pcolormesh(mat_phi, cmap=\"RdYlBu_r\")\n",
    "plt.gca().invert_yaxis()\n",
    "plt.xticks([])\n",
    "plt.yticks([])\n",
    "plt.xlabel(\"jet index\")\n",
    "plt.title(\"$\\phi$\")\n",
    "plt.colorbar()\n",
    "\n",
    "plt.tight_layout()\n",
    "plt.savefig(\"../paper/plots/jagged_matrices.pdf\", bbox_inches=\"tight\")"
   ]
  },
  {
   "cell_type": "code",
   "execution_count": null,
   "metadata": {},
   "outputs": [],
   "source": [
    "pt = pt_jag"
   ]
  },
  {
   "cell_type": "code",
   "execution_count": null,
   "metadata": {},
   "outputs": [],
   "source": [
    "def sumpt_event(data, offsets, ret):\n",
    "    ret[:] = 0\n",
    "    for iev in range(len(offsets)-1):\n",
    "        i0 = offsets[iev]\n",
    "        i1 = offsets[iev+1]\n",
    "        for j in range(i0, i1):\n",
    "            ret[iev] += data[j]\n",
    "    return ret\n",
    "\n",
    "sum1 = np.zeros(len(offsets)-1, dtype=np.float64)\n",
    "%timeit sumpt_event(pt_jag.content, pt_jag.offsets, sum1)"
   ]
  },
  {
   "cell_type": "code",
   "execution_count": null,
   "metadata": {},
   "outputs": [],
   "source": [
    "%timeit -n3 pt_jag.sum()"
   ]
  },
  {
   "cell_type": "code",
   "execution_count": null,
   "metadata": {},
   "outputs": [],
   "source": [
    "@numba.njit(parallel=True)\n",
    "def sumpt_event(data, offsets, ret):\n",
    "    ret[:] = 0\n",
    "    for iev in range(len(offsets)-1):\n",
    "        i0 = offsets[iev]\n",
    "        i1 = offsets[iev+1]\n",
    "        for j in range(i0, i1):\n",
    "            ret[iev] += data[j]\n",
    "    return ret\n",
    "\n",
    "sum1 = np.zeros(len(offsets)-1, dtype=np.float64)\n",
    "%timeit -n3 sumpt_event(pt_jag.content, pt_jag.offsets, sum1)"
   ]
  }
 ],
 "metadata": {
  "kernelspec": {
   "display_name": "Python 2",
   "language": "python",
   "name": "python2"
  },
  "language_info": {
   "codemirror_mode": {
    "name": "ipython",
    "version": 2
   },
   "file_extension": ".py",
   "mimetype": "text/x-python",
   "name": "python",
   "nbconvert_exporter": "python",
   "pygments_lexer": "ipython2",
   "version": "2.7.15"
  }
 },
 "nbformat": 4,
 "nbformat_minor": 2
}
