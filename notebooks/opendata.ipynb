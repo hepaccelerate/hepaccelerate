{
 "cells": [
  {
   "cell_type": "code",
   "execution_count": 87,
   "metadata": {},
   "outputs": [],
   "source": [
    "import sys, os\n",
    "sys.path += [\"/Users/joosep/Documents/caltech/hepaccelerate/hepaccelerate/\"]"
   ]
  },
  {
   "cell_type": "code",
   "execution_count": 88,
   "metadata": {},
   "outputs": [],
   "source": [
    "import glob\n",
    "import numpy\n",
    "\n",
    "import hepaccelerate\n",
    "from hepaccelerate.utils import Results, Dataset, Histogram, choose_backend\n",
    "\n",
    "import uproot\n",
    "import math\n",
    "\n",
    "import matplotlib.pyplot as plt\n",
    "import numba"
   ]
  },
  {
   "cell_type": "code",
   "execution_count": 89,
   "metadata": {},
   "outputs": [],
   "source": [
    "use_cuda = False\n",
    "numpy_lib, ha = hepaccelerate.choose_backend(use_cuda=use_cuda)"
   ]
  },
  {
   "cell_type": "code",
   "execution_count": 90,
   "metadata": {},
   "outputs": [
    {
     "name": "stdout",
     "output_type": "stream",
     "text": [
      "10 filenames\n"
     ]
    }
   ],
   "source": [
    "datapath = \"/Users/joosep/Documents/caltech/\"\n",
    "samplepath = \"opendata/cms/MonteCarlo2016/RunIISummer16MiniAODv2/QCD_Pt-15to7000_TuneCUETP8M1_Flat_13TeV_pythia8/NANOAODSIM/PUMoriond17_magnetOn_80X_mcRun2_asymptotic_2016_TrancheIV_v6-v1/110000/\"\n",
    "fns = glob.glob(datapath + samplepath + \"*.root\")[:10]\n",
    "print(len(fns), \"filenames\")"
   ]
  },
  {
   "cell_type": "code",
   "execution_count": 91,
   "metadata": {},
   "outputs": [],
   "source": [
    "cols = [str(x, 'ascii') for x in uproot.open(fns[0]).get(\"Events\").keys()]"
   ]
  },
  {
   "cell_type": "markdown",
   "metadata": {},
   "source": [
    "As an example, here are all the columns for Jet objects:"
   ]
  },
  {
   "cell_type": "code",
   "execution_count": 92,
   "metadata": {},
   "outputs": [
    {
     "data": {
      "text/plain": [
       "['Jet_area',\n",
       " 'Jet_btagCMVA',\n",
       " 'Jet_btagCSVV2',\n",
       " 'Jet_btagDeepB',\n",
       " 'Jet_btagDeepC',\n",
       " 'Jet_btagDeepFlavB',\n",
       " 'Jet_btagDeepFlavC',\n",
       " 'Jet_chEmEF',\n",
       " 'Jet_chHEF',\n",
       " 'Jet_eta',\n",
       " 'Jet_jercCHF',\n",
       " 'Jet_jercCHPUF',\n",
       " 'Jet_mass',\n",
       " 'Jet_muEF',\n",
       " 'Jet_muonSubtrFactor',\n",
       " 'Jet_neEmEF',\n",
       " 'Jet_neHEF',\n",
       " 'Jet_phi',\n",
       " 'Jet_pt',\n",
       " 'Jet_qgl',\n",
       " 'Jet_rawFactor',\n",
       " 'Jet_bRegCorr',\n",
       " 'Jet_bRegRes',\n",
       " 'Jet_electronIdx1',\n",
       " 'Jet_electronIdx2',\n",
       " 'Jet_jetId',\n",
       " 'Jet_muonIdx1',\n",
       " 'Jet_muonIdx2',\n",
       " 'Jet_nConstituents',\n",
       " 'Jet_nElectrons',\n",
       " 'Jet_nMuons',\n",
       " 'Jet_puId',\n",
       " 'Jet_genJetIdx',\n",
       " 'Jet_hadronFlavour',\n",
       " 'Jet_partonFlavour',\n",
       " 'Jet_cleanmask']"
      ]
     },
     "execution_count": 92,
     "metadata": {},
     "output_type": "execute_result"
    }
   ],
   "source": [
    "[k for k in cols if k.startswith(\"Jet_\")]"
   ]
  },
  {
   "cell_type": "markdown",
   "metadata": {},
   "source": [
    "We can load a column from the file corresponding to `Jet_pt` and inspect the contents. It is a sparse or \"jagged\" array."
   ]
  },
  {
   "cell_type": "code",
   "execution_count": 93,
   "metadata": {},
   "outputs": [
    {
     "data": {
      "text/plain": [
       "<JaggedArray [[83.5625 74.25 28.546875] [202.75 143.25 66.9375 26.171875 17.625] [160.25 106.4375 97.4375 ... 20.984375 20.046875 16.3125] ... [762.5 691.5 22.671875 ... 20.96875 20.6875 16.140625] [39.5625 31.625 30.3125 18.640625 18.59375 16.40625] [366.0 359.0 25.9375 17.125]] at 0x000163f05dd8>"
      ]
     },
     "execution_count": 93,
     "metadata": {},
     "output_type": "execute_result"
    }
   ],
   "source": [
    "jet_pt = uproot.open(fns[0]).get(\"Events\").array(\"Jet_pt\")\n",
    "jet_pt"
   ]
  },
  {
   "cell_type": "markdown",
   "metadata": {},
   "source": [
    "There are approximately 100k events (rows), with approximately 6 jets per event on average."
   ]
  },
  {
   "cell_type": "code",
   "execution_count": 94,
   "metadata": {},
   "outputs": [
    {
     "data": {
      "text/plain": [
       "(107904, 637052)"
      ]
     },
     "execution_count": 94,
     "metadata": {},
     "output_type": "execute_result"
    }
   ],
   "source": [
    "jet_pt.shape[0], jet_pt.content.shape[0]"
   ]
  },
  {
   "cell_type": "markdown",
   "metadata": {},
   "source": [
    "The `content` array allows to access the raw data of all the jet pt-s."
   ]
  },
  {
   "cell_type": "code",
   "execution_count": 95,
   "metadata": {},
   "outputs": [
    {
     "data": {
      "text/plain": [
       "array([ 83.5625  ,  74.25    ,  28.546875, ..., 359.      ,  25.9375  ,\n",
       "        17.125   ], dtype=float32)"
      ]
     },
     "execution_count": 95,
     "metadata": {},
     "output_type": "execute_result"
    }
   ],
   "source": [
    "jet_pt.content"
   ]
  },
  {
   "cell_type": "markdown",
   "metadata": {},
   "source": [
    "The offsets array encodes the boundaries between the events in the raw data array. Using this, we can write functions that work within the event boundaries."
   ]
  },
  {
   "cell_type": "code",
   "execution_count": 96,
   "metadata": {},
   "outputs": [
    {
     "data": {
      "text/plain": [
       "array([     0,      3,      8, ..., 637042, 637048, 637052])"
      ]
     },
     "execution_count": 96,
     "metadata": {},
     "output_type": "execute_result"
    }
   ],
   "source": [
    "jet_pt.offsets"
   ]
  },
  {
   "cell_type": "markdown",
   "metadata": {},
   "source": [
    "Now, we define which branches/columns we read from the input files and how they are grouped together to structs. For example, all the `Muon_pt`, `Muon_eta` etc branches are grouped to a Muon struct.\n",
    "Quantities that are simply one value per event are listed in `EventVariables`."
   ]
  },
  {
   "cell_type": "code",
   "execution_count": 43,
   "metadata": {},
   "outputs": [],
   "source": [
    "is_mc = True\n",
    "dataset_era = \"2016\"\n",
    "dataset_name = \"qcd_15to7000\"\n",
    "\n",
    "datastructures = {\n",
    "    \"Muon\": [\n",
    "        (\"Muon_pt\", \"float32\"), (\"Muon_eta\", \"float32\"),\n",
    "        (\"Muon_phi\", \"float32\"), (\"Muon_mass\", \"float32\"),\n",
    "        (\"Muon_pdgId\", \"int32\"),\n",
    "        (\"Muon_pfRelIso04_all\", \"float32\"), (\"Muon_mediumId\", \"bool\"),\n",
    "        (\"Muon_tightId\", \"bool\"), (\"Muon_charge\", \"int32\"),\n",
    "        (\"Muon_isGlobal\", \"bool\"), (\"Muon_isTracker\", \"bool\"),\n",
    "        (\"Muon_nTrackerLayers\", \"int32\"), (\"Muon_ptErr\", \"float32\"),\n",
    "    ],\n",
    "    \"Electron\": [\n",
    "        (\"Electron_pt\", \"float32\"), (\"Electron_eta\", \"float32\"),\n",
    "        (\"Electron_phi\", \"float32\"), (\"Electron_mass\", \"float32\"),\n",
    "        (\"Electron_pfRelIso03_all\", \"float32\"),\n",
    "        (\"Electron_mvaFall17V1Iso_WP90\", \"bool\"),\n",
    "    ],\n",
    "    \"Jet\": [\n",
    "        (\"Jet_pt\", \"float32\"),\n",
    "        (\"Jet_eta\", \"float32\"),\n",
    "        (\"Jet_phi\", \"float32\"),\n",
    "        (\"Jet_mass\", \"float32\"),\n",
    "        (\"Jet_btagDeepB\", \"float32\"),\n",
    "        (\"Jet_qgl\", \"float32\"),\n",
    "        (\"Jet_jetId\", \"int32\"),\n",
    "        (\"Jet_puId\", \"int32\"),\n",
    "        (\"Jet_area\", \"float32\"),\n",
    "        (\"Jet_rawFactor\", \"float32\")\n",
    "    ],\n",
    "    \"SoftActivityJet\": [\n",
    "        (\"SoftActivityJet_pt\", \"float32\"),\n",
    "        (\"SoftActivityJet_eta\", \"float32\"),\n",
    "        (\"SoftActivityJet_phi\", \"float32\"),\n",
    "    ],\n",
    "    \"TrigObj\": [\n",
    "        (\"TrigObj_pt\", \"float32\"),\n",
    "        (\"TrigObj_eta\", \"float32\"),\n",
    "        (\"TrigObj_phi\", \"float32\"),\n",
    "        (\"TrigObj_id\", \"int32\")\n",
    "    ],\n",
    "    \"EventVariables\": [\n",
    "        (\"nMuon\", \"int32\"),\n",
    "        (\"PV_npvsGood\", \"float32\"), \n",
    "        (\"PV_ndof\", \"float32\"),\n",
    "        (\"PV_z\", \"float32\"),\n",
    "        (\"Flag_BadChargedCandidateFilter\", \"bool\"),\n",
    "        (\"Flag_HBHENoiseFilter\", \"bool\"),\n",
    "        (\"Flag_HBHENoiseIsoFilter\", \"bool\"),\n",
    "        (\"Flag_EcalDeadCellTriggerPrimitiveFilter\", \"bool\"),\n",
    "        (\"Flag_goodVertices\", \"bool\"),\n",
    "        (\"Flag_globalSuperTightHalo2016Filter\", \"bool\"),\n",
    "        (\"Flag_BadPFMuonFilter\", \"bool\"),\n",
    "        (\"Flag_BadChargedCandidateFilter\", \"bool\"),\n",
    "        (\"run\", \"uint32\"),\n",
    "        (\"luminosityBlock\", \"uint32\"),\n",
    "        (\"event\", \"uint64\"),\n",
    "        (\"SoftActivityJetNjets5\", \"int32\"),\n",
    "        (\"fixedGridRhoFastjetAll\", \"float32\"),\n",
    "        (\"HLT_PFJet40\", \"bool\")\n",
    "    ],\n",
    "}\n",
    "\n",
    "if is_mc:\n",
    "    datastructures[\"EventVariables\"] += [\n",
    "        (\"Pileup_nTrueInt\", \"uint32\"),\n",
    "        (\"Generator_weight\", \"float32\"),\n",
    "        (\"genWeight\", \"float32\")\n",
    "    ]\n",
    "    if dataset_era == \"2016\" or dataset_era == \"2017\":\n",
    "        datastructures[\"EventVariables\"] += [\n",
    "            (\"L1PreFiringWeight_Nom\", \"float32\"),\n",
    "            (\"L1PreFiringWeight_Dn\", \"float32\"),\n",
    "            (\"L1PreFiringWeight_Up\", \"float32\")\n",
    "        ]\n",
    "    datastructures[\"Muon\"] += [\n",
    "        (\"Muon_genPartIdx\", \"int32\"),\n",
    "    ]\n",
    "    datastructures[\"GenPart\"] = [\n",
    "        (\"GenPart_pt\", \"float32\"),\n",
    "        (\"GenPart_eta\", \"float32\"),\n",
    "        (\"GenPart_phi\", \"float32\"),\n",
    "        (\"GenPart_pdgId\", \"int32\"),\n",
    "        (\"GenPart_status\", \"int32\"),\n",
    "    ]\n",
    "    datastructures[\"Jet\"] += [\n",
    "        (\"Jet_genJetIdx\", \"int32\")\n",
    "    ]\n",
    "    datastructures[\"GenJet\"] = [\n",
    "        (\"GenJet_pt\", \"float32\"), \n",
    "        (\"GenJet_eta\", \"float32\"), \n",
    "        (\"GenJet_phi\", \"float32\"), \n",
    "        (\"GenJet_mass\", \"float32\"), \n",
    "    ]\n",
    "\n",
    "if dataset_era == \"2016\":\n",
    "    datastructures[\"EventVariables\"] += [\n",
    "        (\"MET_pt\", \"float32\"),\n",
    "    ]\n",
    "elif dataset_era == \"2017\":\n",
    "    datastructures[\"EventVariables\"] += [\n",
    "        (\"METFixEE2017_pt\", \"float32\"),\n",
    "    ]\n",
    "elif dataset_era == \"2018\":\n",
    "    datastructures[\"EventVariables\"] += [\n",
    "        (\"MET_pt\", \"float32\"),\n",
    "    ]"
   ]
  },
  {
   "cell_type": "markdown",
   "metadata": {},
   "source": [
    "Now we define the dataset."
   ]
  },
  {
   "cell_type": "code",
   "execution_count": 44,
   "metadata": {},
   "outputs": [],
   "source": [
    "dataset = Dataset(\"qcd_15to7000\", fns, datastructures,\n",
    "    cache_location=\"./mycache/\", treename=\"Events\", datapath=datapath)"
   ]
  },
  {
   "cell_type": "markdown",
   "metadata": {},
   "source": [
    "We try to load the columns from an existing cache."
   ]
  },
  {
   "cell_type": "code",
   "execution_count": 45,
   "metadata": {},
   "outputs": [
    {
     "name": "stdout",
     "output_type": "stream",
     "text": [
      "Cache does not exist: [Errno 2] No such file or directory: './mycache/opendata/cms/MonteCarlo2016/RunIISummer16MiniAODv2/QCD_Pt-15to7000_TuneCUETP8M1_Flat_13TeV_pythia8/NANOAODSIM/PUMoriond17_magnetOn_80X_mcRun2_asymptotic_2016_TrancheIV_v6-v1/110000/F4D8F740-3BEF-E611-B021-001E6750510D.HLT_PFJet40.mmap'\n"
     ]
    }
   ],
   "source": [
    "cache_exists = False\n",
    "try:\n",
    "    dataset.from_cache()\n",
    "    cache_exists = True\n",
    "    print(\"Cache loaded\")\n",
    "except FileNotFoundError as e:\n",
    "    cache_exists = False\n",
    "    print(\"Cache does not exist: {0}\".format(e))"
   ]
  },
  {
   "cell_type": "markdown",
   "metadata": {},
   "source": [
    "If the cache did not exist, we need to load the ROOT files and create the column cache."
   ]
  },
  {
   "cell_type": "code",
   "execution_count": 46,
   "metadata": {},
   "outputs": [
    {
     "name": "stdout",
     "output_type": "stream",
     "text": [
      "Creating cache\n",
      "Done creating cache\n"
     ]
    }
   ],
   "source": [
    "if not cache_exists:\n",
    "    print(\"Creating cache\")\n",
    "    dataset.load_root()\n",
    "    dataset.to_cache()\n",
    "    print(\"Done creating cache\")\n",
    "else:\n",
    "    print(\"Cache exists already\")"
   ]
  },
  {
   "cell_type": "markdown",
   "metadata": {},
   "source": [
    "Our dataset consists of multiple files."
   ]
  },
  {
   "cell_type": "code",
   "execution_count": 47,
   "metadata": {
    "scrolled": false
   },
   "outputs": [
    {
     "data": {
      "text/plain": [
       "(10, 876288)"
      ]
     },
     "execution_count": 47,
     "metadata": {},
     "output_type": "execute_result"
    }
   ],
   "source": [
    "dataset.numfiles, dataset.numevents()"
   ]
  },
  {
   "cell_type": "markdown",
   "metadata": {},
   "source": [
    "Now we merge the arrays across all the files, keeping track of the event boundaries, such that we can efficiently deal with large arrays in the following kernels."
   ]
  },
  {
   "cell_type": "code",
   "execution_count": 48,
   "metadata": {},
   "outputs": [],
   "source": [
    "dataset.merge_inplace()"
   ]
  },
  {
   "cell_type": "code",
   "execution_count": 49,
   "metadata": {},
   "outputs": [
    {
     "data": {
      "text/plain": [
       "(1, 876288)"
      ]
     },
     "execution_count": 49,
     "metadata": {},
     "output_type": "execute_result"
    }
   ],
   "source": [
    "dataset.numfiles, dataset.numevents()"
   ]
  },
  {
   "cell_type": "code",
   "execution_count": 50,
   "metadata": {},
   "outputs": [],
   "source": [
    "numevents = dataset.numevents()"
   ]
  },
  {
   "cell_type": "code",
   "execution_count": 51,
   "metadata": {},
   "outputs": [
    {
     "name": "stdout",
     "output_type": "stream",
     "text": [
      "Dataset size: 1.21 GB\n"
     ]
    }
   ],
   "source": [
    "print(\"Dataset size: {0:.2f} GB\".format(dataset.memsize()/1024/1024/1024))"
   ]
  },
  {
   "cell_type": "code",
   "execution_count": 52,
   "metadata": {},
   "outputs": [],
   "source": [
    "eventvars = dataset.eventvars[0]"
   ]
  },
  {
   "cell_type": "code",
   "execution_count": 53,
   "metadata": {},
   "outputs": [],
   "source": [
    "jets = dataset.structs[\"Jet\"][0]\n",
    "jets.hepaccelerate_backend = ha"
   ]
  },
  {
   "cell_type": "code",
   "execution_count": 54,
   "metadata": {},
   "outputs": [
    {
     "name": "stdout",
     "output_type": "stream",
     "text": [
      "event=0, njets=3\n",
      "pt [83.5625   74.25     28.546875]\n",
      "event=1, njets=5\n",
      "pt [202.75     143.25      66.9375    26.171875  17.625   ]\n",
      "event=2, njets=10\n",
      "pt [160.25     106.4375    97.4375    66.0625    49.75      27.15625\n",
      "  26.265625  20.984375  20.046875  16.3125  ]\n",
      "event=3, njets=5\n",
      "pt [354.75   249.75   167.75   109.4375  27.375 ]\n",
      "event=4, njets=1\n",
      "pt [23.34375]\n"
     ]
    }
   ],
   "source": [
    "for i in range(5):\n",
    "    j0 = jets.offsets[i]\n",
    "    j1 = jets.offsets[i+1]\n",
    "    pts = jets.pt[j0:j1]\n",
    "    print(\"event={0}, njets={1}\".format(i, j1-j0))\n",
    "    print(\"pt\", pts)"
   ]
  },
  {
   "cell_type": "code",
   "execution_count": 55,
   "metadata": {},
   "outputs": [],
   "source": [
    "muons = dataset.structs[\"Muon\"][0]"
   ]
  },
  {
   "cell_type": "code",
   "execution_count": 59,
   "metadata": {},
   "outputs": [],
   "source": [
    "def select_events(eventvars):\n",
    "    pass_trigger = eventvars[\"HLT_PFJet40\"] == True\n",
    "    pass_flags = eventvars[\"Flag_goodVertices\"] == True\n",
    "    return pass_trigger & pass_flags"
   ]
  },
  {
   "cell_type": "code",
   "execution_count": 60,
   "metadata": {},
   "outputs": [],
   "source": [
    "def select_jets(jets, muons, mask_events, mask_muons, ptcut=30, ptcut_leading=40):\n",
    "    mask_jets = numpy_lib.ones(jets.numobjects(), dtype=numpy_lib.bool)\n",
    "    mask_jets = mask_jets & (jets.pt > ptcut)\n",
    "    pass_lepton_dr = ha.mask_deltar_first(jets, mask_jets, muons, mask_muons, 0.5)\n",
    "    mask_jets = mask_jets & pass_lepton_dr\n",
    "    return mask_jets"
   ]
  },
  {
   "cell_type": "code",
   "execution_count": null,
   "metadata": {},
   "outputs": [],
   "source": [
    "def to_spherical(arrs):\n",
    "    px = arrs[\"px\"]\n",
    "    py = arrs[\"py\"]\n",
    "    pz = arrs[\"pz\"]\n",
    "    e = arrs[\"e\"]\n",
    "    pt = NUMPY_LIB.sqrt(px**2 + py**2)\n",
    "    eta = NUMPY_LIB.arcsinh(pz / pt)\n",
    "    phi = NUMPY_LIB.arccos(NUMPY_LIB.clip(px / pt, -1.0, 1.0))\n",
    "    mass = NUMPY_LIB.sqrt(NUMPY_LIB.abs(e**2 - (px**2 + py**2 + pz**2)))\n",
    "    rap = rapidity(e, pz)\n",
    "    return {\"pt\": pt, \"eta\": eta, \"phi\": phi, \"mass\": mass, \"rapidity\": rap}"
   ]
  },
  {
   "cell_type": "code",
   "execution_count": null,
   "metadata": {},
   "outputs": [],
   "source": [
    "def deltar(obj1, obj2, use_cuda):\n",
    "    deta = obj1[\"eta\"] - obj2[\"eta\"]\n",
    "    dphi = NUMPY_LIB.zeros(len(deta), dtype=NUMPY_LIB.float32)\n",
    "    if use_cuda:\n",
    "        deltaphi_cudakernel[21,1024](obj1[\"phi\"],obj2[\"phi\"],dphi)\n",
    "        cuda.synchronize()\n",
    "    else:\n",
    "        deltaphi_cpu(obj1[\"phi\"],obj2[\"phi\"],dphi)\n",
    "    dr = NUMPY_LIB.sqrt(deta**2 + dphi**2)\n",
    "    return deta, dphi, dr "
   ]
  },
  {
   "cell_type": "code",
   "execution_count": 83,
   "metadata": {},
   "outputs": [],
   "source": [
    "@numba.njit('float32[:], float32[:], float32[:]', parallel=True, fastmath=True)\n",
    "def deltaphi_cpu(phi1, phi2, out_dphi):\n",
    "    for iev in numba.prange(len(phi1)):\n",
    "        dphi = phi1[iev] - phi2[iev] \n",
    "        if dphi > math.pi:\n",
    "            dphi = dphi - 2*math.pi\n",
    "            out_dphi[iev] = dphi\n",
    "        elif (dphi + math.pi) < 0:\n",
    "            dphi = dphi + 2*math.pi\n",
    "            out_dphi[iev] = dphi\n",
    "        else:\n",
    "            out_dphi[iev] = dphi\n",
    "\n",
    "if use_cuda:\n",
    "    @cuda.jit\n",
    "    def deltaphi_cudakernel(phi1, phi2, out_dphi):\n",
    "        xi = cuda.grid(1)\n",
    "        xstride = cuda.gridsize(1)\n",
    "\n",
    "        for iev in range(xi, len(phi1), xstride):\n",
    "            dphi = phi1[iev] - phi2[iev] \n",
    "            if dphi > math.pi:\n",
    "                dphi = dphi - 2*math.pi\n",
    "                out_dphi[iev] = dphi\n",
    "            elif (dphi + math.pi) < 0:\n",
    "                dphi = dphi + 2*math.pi\n",
    "                out_dphi[iev] = dphi\n",
    "            else:\n",
    "                out_dphi[iev] = dphi"
   ]
  },
  {
   "cell_type": "code",
   "execution_count": 84,
   "metadata": {},
   "outputs": [],
   "source": [
    "def dnn_variables(leading_lepton, subleading_lepton, leading_jet, subleading_jet, nsoft, use_cuda, NUMPY_LIB):\n",
    "    #delta eta, phi and R between two muons\n",
    "    mm_deta, mm_dphi, mm_dr = deltar(leading_lepton, subleading_lepton, use_cuda)\n",
    "    \n",
    "    #delta eta between jets \n",
    "    jj_deta = leading_jet[\"eta\"] - subleading_jet[\"eta\"]\n",
    "    jj_dphi = leading_jet[\"phi\"] - subleading_jet[\"phi\"]\n",
    "    jj_dphi_mod = NUMPY_LIB.zeros(len(jj_dphi), dtype=NUMPY_LIB.float32)\n",
    "\n",
    "    if use_cuda:\n",
    "        deltaphi_cudakernel[32,1024](leading_jet[\"phi\"],subleading_jet[\"phi\"], jj_dphi_mod)\n",
    "        cuda.synchronize()\n",
    "    else:\n",
    "        deltaphi_cpu(leading_jet[\"phi\"],subleading_jet[\"phi\"], jj_dphi_mod)\n",
    "\n",
    "    #jj_dphi_mod = NUMPY_LIB.mod(jj_dphi + math.pi, math.pi)\n",
    "    \n",
    "    #muons in cartesian, create dimuon system \n",
    "    m1 = to_cartesian(leading_lepton)    \n",
    "    m2 = to_cartesian(subleading_lepton)    \n",
    "    mm = {k: m1[k] + m2[k] for k in [\"px\", \"py\", \"pz\", \"e\"]}\n",
    "    mm_sph = to_spherical(mm)\n",
    "\n",
    "    #jets in cartesian, create dijet system \n",
    "    j1 = to_cartesian(leading_jet)\n",
    "    j2 = to_cartesian(subleading_jet)\n",
    "    leading_jet[\"rapidity\"] = rapidity(j1[\"e\"], j1[\"pz\"]) \n",
    "    subleading_jet[\"rapidity\"] = rapidity(j2[\"e\"], j2[\"pz\"]) \n",
    "    jj = {k: j1[k] + j2[k] for k in [\"px\", \"py\", \"pz\", \"e\"]}\n",
    "    jj_sph = to_spherical(jj)\n",
    "  \n",
    "    #create dimuon-dijet system \n",
    "    mmjj = {k: j1[k] + j2[k] + m1[k] + m2[k] for k in [\"px\", \"py\", \"pz\", \"e\"]} \n",
    "    mmjj_sph = to_spherical(mmjj)\n",
    "    #compute deletaEta between Higgs and jet\n",
    "    EtaHQs = []\n",
    "    for jet in [leading_jet, subleading_jet]:\n",
    "        EtaHQ = mm_sph[\"eta\"] - jet[\"eta\"] \n",
    "        EtaHQs += [EtaHQ]\n",
    "    EtaHQ = NUMPY_LIB.vstack(EtaHQs)\n",
    "    minEtaHQ = NUMPY_LIB.min(EtaHQ, axis=0)\n",
    "    #compute deltaR between all muons and jets\n",
    "    dr_mjs = []\n",
    "    for mu in [leading_lepton, subleading_lepton]:\n",
    "        for jet in [leading_jet, subleading_jet]:\n",
    "            _, _, dr_mj = deltar(mu, jet, use_cuda)\n",
    "            dr_mjs += [dr_mj]\n",
    "    dr_mj = NUMPY_LIB.vstack(dr_mjs)\n",
    "    dRmin_mj = NUMPY_LIB.min(dr_mj, axis=0) \n",
    "    dRmax_mj = NUMPY_LIB.max(dr_mj, axis=0) \n",
    "    #compute deltaR between dimuon system and both jets \n",
    "    dr_mmjs = []\n",
    "    for jet in [leading_jet, subleading_jet]:\n",
    "        _, _, dr_mmj = deltar(mm_sph, jet, use_cuda)\n",
    "        dr_mmjs += [dr_mmj]\n",
    "    dr_mmj = NUMPY_LIB.vstack(dr_mmjs)\n",
    "    dRmin_mmj = NUMPY_LIB.min(dr_mmj, axis=0) \n",
    "    dRmax_mmj = NUMPY_LIB.max(dr_mmj, axis=0)\n",
    "   \n",
    "    #Zeppenfeld variable\n",
    "    Zep = (mm_sph[\"eta\"] - 0.5*(leading_jet[\"eta\"] + subleading_jet[\"eta\"]))\n",
    "    Zep_rapidity = (mm_sph[\"rapidity\"] - 0.5*(leading_jet[\"rapidity\"] + subleading_jet[\"rapidity\"]))/(leading_jet[\"rapidity\"]-subleading_jet[\"rapidity\"])\n",
    "\n",
    "    #Collin-Soper frame variable\n",
    "    cthetaCS = 2*(m1[\"pz\"] * m2[\"e\"] - m1[\"e\"]*m2[\"pz\"]) / (mm_sph[\"mass\"] * NUMPY_LIB.sqrt(NUMPY_LIB.power(mm_sph[\"mass\"], 2) + NUMPY_LIB.power(mm_sph[\"pt\"], 2)))\n",
    "\n",
    "    ret = {\n",
    "        #\"leading_muon_pt\": leading_muon[\"pt\"],\n",
    "        #\"leading_muon_eta\": leading_muon[\"eta\"],\n",
    "        #\"leading_muon_phi\": leading_muon[\"phi\"],\n",
    "        #\"leading_muon_mass\": leading_muon[\"mass\"],\n",
    "        #\"subleading_muon_pt\": subleading_muon[\"pt\"],\n",
    "        #\"subleading_muon_eta\": subleading_muon[\"eta\"],\n",
    "        #\"subleading_muon_phi\": subleading_muon[\"phi\"],\n",
    "        #\"subleading_muon_mass\": subleading_muon[\"mass\"],\n",
    "        \"dEtamm\": mm_deta, \"dPhimm\": mm_dphi, \"dRmm\": mm_dr,\n",
    "        \"M_jj\": jj_sph[\"mass\"], \"pt_jj\": jj_sph[\"pt\"], \"eta_jj\": jj_sph[\"eta\"], \"phi_jj\": jj_sph[\"phi\"],\n",
    "        \"M_mmjj\": mmjj_sph[\"mass\"], \"eta_mmjj\": mmjj_sph[\"eta\"], \"phi_mmjj\": mmjj_sph[\"phi\"],\n",
    "        \"dEta_jj\": jj_deta,\n",
    "        \"dEta_jj_abs\": NUMPY_LIB.abs(jj_deta),\n",
    "        \"dPhi_jj\": jj_dphi,\n",
    "        \"dPhi_jj_mod\": jj_dphi_mod,\n",
    "        \"dPhi_jj_mod_abs\": NUMPY_LIB.abs(jj_dphi_mod),\n",
    "        \"leadingJet_pt\": leading_jet[\"pt\"],\n",
    "        \"subleadingJet_pt\": subleading_jet[\"pt\"],\n",
    "        \"leadingJet_eta\": leading_jet[\"eta\"],\n",
    "        \"subleadingJet_eta\": subleading_jet[\"eta\"],\n",
    "        \"dRmin_mj\": dRmin_mj,\n",
    "        \"dRmax_mj\": dRmax_mj,\n",
    "        \"dRmin_mmj\": dRmin_mmj,\n",
    "        \"dRmax_mmj\": dRmax_mmj,\n",
    "        \"Zep\": Zep,\n",
    "        \"Zep_rapidity\": Zep_rapidity,\n",
    "        \"leadingJet_qgl\": leading_jet[\"qgl\"],\n",
    "        \"subleadingJet_qgl\": subleading_jet[\"qgl\"], \n",
    "        \"cthetaCS\": cthetaCS,\n",
    "        \"softJet5\": nsoft,\n",
    "        \"Higgs_pt\": mm_sph[\"pt\"],\n",
    "        \"Higgs_eta\": mm_sph[\"eta\"],\n",
    "        \"Higgs_rapidity\": mm_sph[\"rapidity\"],\n",
    "        \"Higgs_mass\": mm_sph[\"mass\"],\n",
    "        #DNN pisa variable\n",
    "        \"Mqq_log\": NUMPY_LIB.log(jj_sph[\"mass\"] ),\n",
    "        \"Rpt\": mmjj_sph[\"pt\"]/(mm_sph[\"pt\"]+jj_sph[\"pt\"]),\n",
    "        \"qqDeltaEta\": NUMPY_LIB.abs(jj_deta),\n",
    "        \"ll_zstar\": NUMPY_LIB.abs(mm_sph[\"rapidity\"] - 0.5*(leading_jet[\"rapidity\"] + subleading_jet[\"rapidity\"]))/(leading_jet[\"rapidity\"]-subleading_jet[\"rapidity\"]),\n",
    "        \"NSoft5\": nsoft,\n",
    "        \"minEtaHQ\": minEtaHQ,\n",
    "        \"log(Higgs_pt)\": NUMPY_LIB.log(mm_sph[\"pt\"]),\n",
    "        \"Mqq\": jj_sph[\"mass\"],\n",
    "        \"QJet0_pt_touse\": leading_jet[\"pt\"],\n",
    "        \"QJet1_pt_touse\": subleading_jet[\"pt\"],\n",
    "        \"QJet0_eta\": leading_jet[\"eta\"],\n",
    "        \"QJet1_eta\": subleading_jet[\"eta\"],\n",
    "        \"QJet0_phi\": leading_jet[\"phi\"],\n",
    "        \"QJet1_phi\": subleading_jet[\"phi\"],\n",
    "        \"QJet0_qgl\": leading_jet[\"qgl\"],\n",
    "        \"QJet1_qgl\": subleading_jet[\"qgl\"],\n",
    "        \"Higgs_m\": mm_sph[\"mass\"],\n",
    "    }\n",
    "\n",
    "    if debug:\n",
    "        for k in ret.keys():\n",
    "            msk = NUMPY_LIB.isnan(ret[k])\n",
    "            if NUMPY_LIB.sum(msk) > 0:\n",
    "                print(\"dnn vars nan\", k, np.sum(msk))\n",
    "\n",
    "    return ret"
   ]
  },
  {
   "cell_type": "code",
   "execution_count": 61,
   "metadata": {},
   "outputs": [],
   "source": [
    "mask_events = select_events(eventvars)\n",
    "mask_muons = muons.pt>20"
   ]
  },
  {
   "cell_type": "code",
   "execution_count": 62,
   "metadata": {},
   "outputs": [],
   "source": [
    "mask_jets = select_jets(jets, muons, mask_events, mask_muons)"
   ]
  },
  {
   "cell_type": "code",
   "execution_count": 86,
   "metadata": {},
   "outputs": [
    {
     "data": {
      "text/plain": [
       "JaggedStruct(prefix=Electron_, numevents=876288, numobjects=460021, attrs_data=\n",
       "{'pt': array([48.65482  ,  8.609233 ,  5.6734905, ..., 22.74225  ,  7.7119923,\n",
       "       77.95967  ], dtype=float32), 'eta': array([ 1.8034668 , -0.80737305, -2.2470703 , ...,  0.04047394,\n",
       "       -0.10690308,  0.49804688], dtype=float32), 'phi': array([-2.2631836 , -2.364746  , -1.8308105 , ..., -1.0390625 ,\n",
       "       -0.9884033 ,  0.25238037], dtype=float32), 'mass': array([ 0.01818848,  0.00077915,  0.00860596, ..., -0.00608826,\n",
       "        0.00222778, -0.02905273], dtype=float32), 'pfRelIso03_all': array([0.9614071, 6.7830243, 2.3812408, ..., 2.5217996, 8.419148 ,\n",
       "       1.7697215], dtype=float32), 'mvaFall17V1Iso_WP90': array([False, False, False, ..., False, False, False])})"
      ]
     },
     "execution_count": 86,
     "metadata": {},
     "output_type": "execute_result"
    }
   ],
   "source": [
    "dataset.structs[\"Electron\"][0]"
   ]
  },
  {
   "cell_type": "code",
   "execution_count": 63,
   "metadata": {},
   "outputs": [],
   "source": [
    "inds = numpy_lib.zeros(jets.numevents(), dtype=numpy_lib.int32)\n",
    "inds[:] = 0\n",
    "leading_jet_pt = ha.get_in_offsets(jets.pt, jets.offsets, inds, mask_events, mask_jets)\n",
    "\n",
    "mask_events = mask_events & (leading_jet_pt > 40)\n",
    "\n",
    "njet = ha.sum_in_offsets(jets, mask_jets, mask_events, mask_jets, numpy_lib.int8)\n",
    "events_2jet = njet==2\n",
    "events_3jet = njet==3"
   ]
  },
  {
   "cell_type": "code",
   "execution_count": 64,
   "metadata": {},
   "outputs": [],
   "source": [
    "genweights_jet = numpy_lib.zeros(jets.numobjects(), dtype=numpy_lib.float32)\n",
    "ha.broadcast(dataset.eventvars[0][\"genWeight\"], jets.offsets, genweights_jet)"
   ]
  },
  {
   "cell_type": "code",
   "execution_count": 65,
   "metadata": {},
   "outputs": [],
   "source": [
    "bins = numpy_lib.linspace(0,500,100)"
   ]
  },
  {
   "cell_type": "code",
   "execution_count": 66,
   "metadata": {},
   "outputs": [],
   "source": [
    "out_w = numpy_lib.zeros(len(bins)-1, dtype=numpy_lib.float32)\n",
    "out_w2 = numpy_lib.zeros(len(bins)-1, dtype=numpy_lib.float32)"
   ]
  },
  {
   "cell_type": "code",
   "execution_count": 67,
   "metadata": {},
   "outputs": [],
   "source": [
    "ha.fill_histogram(jets.pt[mask_jets], genweights_jet[mask_jets], bins, out_w, out_w2)"
   ]
  },
  {
   "cell_type": "code",
   "execution_count": 68,
   "metadata": {},
   "outputs": [
    {
     "data": {
      "image/png": "[encoded data removed]",
      "text/plain": [
       "<Figure size 432x288 with 1 Axes>"
      ]
     },
     "metadata": {},
     "output_type": "display_data"
    }
   ],
   "source": [
    "plt.bar(bins[:-1], out_w, bins[1]-bins[0]);\n",
    "plt.yscale(\"log\")"
   ]
  },
  {
   "cell_type": "code",
   "execution_count": 69,
   "metadata": {},
   "outputs": [],
   "source": [
    "jet0 = jets.select_nth(0, mask_events, mask_jets, [\"pt\", \"eta\", \"phi\"])\n",
    "jet1 = jets.select_nth(1, mask_events, mask_jets, [\"pt\", \"eta\", \"phi\"])\n",
    "jet2 = jets.select_nth(2, mask_events, mask_jets, [\"pt\", \"eta\", \"phi\"])"
   ]
  },
  {
   "cell_type": "code",
   "execution_count": 70,
   "metadata": {},
   "outputs": [],
   "source": [
    "deta01_2j = jet0[\"eta\"][events_2jet] - jet1[\"eta\"][events_2jet]\n",
    "\n",
    "dphi01_2j = jet0[\"phi\"][events_2jet] - jet1[\"phi\"][events_2jet]"
   ]
  },
  {
   "cell_type": "code",
   "execution_count": 71,
   "metadata": {},
   "outputs": [
    {
     "data": {
      "image/png": "[encoded data removed]",
      "text/plain": [
       "<Figure size 432x288 with 1 Axes>"
      ]
     },
     "metadata": {},
     "output_type": "display_data"
    }
   ],
   "source": [
    "plt.hist(deta01_2j, bins=100, histtype=\"step\", lw=2);"
   ]
  },
  {
   "cell_type": "code",
   "execution_count": 72,
   "metadata": {},
   "outputs": [
    {
     "data": {
      "image/png": "[encoded data removed]",
      "text/plain": [
       "<Figure size 432x288 with 1 Axes>"
      ]
     },
     "metadata": {},
     "output_type": "display_data"
    }
   ],
   "source": [
    "plt.hist(dphi01_2j, bins=100, histtype=\"step\", lw=2);"
   ]
  },
  {
   "cell_type": "code",
   "execution_count": 73,
   "metadata": {},
   "outputs": [],
   "source": [
    "deta01_3j = jet0[\"eta\"][events_3jet] - jet1[\"eta\"][events_3jet]\n",
    "deta02_3j = jet0[\"eta\"][events_3jet] - jet2[\"eta\"][events_3jet]\n",
    "deta12_3j = jet1[\"eta\"][events_3jet] - jet2[\"eta\"][events_3jet]\n",
    "\n",
    "\n",
    "dphi01_3j = jet0[\"phi\"][events_3jet] - jet1[\"phi\"][events_3jet]\n",
    "dphi02_3j = jet0[\"phi\"][events_3jet] - jet2[\"phi\"][events_3jet]\n",
    "dphi12_3j = jet1[\"phi\"][events_3jet] - jet2[\"phi\"][events_3jet]"
   ]
  },
  {
   "cell_type": "code",
   "execution_count": 74,
   "metadata": {},
   "outputs": [
    {
     "data": {
      "image/png": "[encoded data removed]",
      "text/plain": [
       "<Figure size 432x288 with 1 Axes>"
      ]
     },
     "metadata": {},
     "output_type": "display_data"
    }
   ],
   "source": [
    "plt.hist(deta01_3j, bins=100, histtype=\"step\", lw=2);\n",
    "plt.hist(deta02_3j, bins=100, histtype=\"step\", lw=2);\n",
    "plt.hist(deta12_3j, bins=100, histtype=\"step\", lw=2);"
   ]
  },
  {
   "cell_type": "code",
   "execution_count": 75,
   "metadata": {},
   "outputs": [
    {
     "data": {
      "image/png": "[encoded data removed]",
      "text/plain": [
       "<Figure size 432x288 with 1 Axes>"
      ]
     },
     "metadata": {},
     "output_type": "display_data"
    }
   ],
   "source": [
    "plt.hist(dphi01_3j, bins=100, histtype=\"step\", lw=2);\n",
    "plt.hist(dphi02_3j, bins=100, histtype=\"step\", lw=2);\n",
    "plt.hist(dphi12_3j, bins=100, histtype=\"step\", lw=2);"
   ]
  },
  {
   "cell_type": "code",
   "execution_count": 76,
   "metadata": {},
   "outputs": [],
   "source": [
    "bins = numpy_lib.linspace(30, 330, 100)"
   ]
  },
  {
   "cell_type": "code",
   "execution_count": 77,
   "metadata": {},
   "outputs": [
    {
     "data": {
      "text/plain": [
       "array([18, 15, 58, ...,  7, 50, 45], dtype=int32)"
      ]
     },
     "execution_count": 77,
     "metadata": {},
     "output_type": "execute_result"
    }
   ],
   "source": [
    "ha.searchsorted(bins, jets.pt[mask_jets], \"left\")"
   ]
  },
  {
   "cell_type": "code",
   "execution_count": null,
   "metadata": {},
   "outputs": [],
   "source": [
    "#!rm -f ../kernel_benchmarks.txt"
   ]
  },
  {
   "cell_type": "code",
   "execution_count": null,
   "metadata": {
    "scrolled": false
   },
   "outputs": [],
   "source": [
    "# !cd .. && PYTHONPATH=. NUMBA_NUM_THREADS=1 OMP_NUM_THREADS=1 python3 tests/kernel_test.py\n",
    "# !cd .. && PYTHONPATH=. NUMBA_NUM_THREADS=2 OMP_NUM_THREADS=2 python3 tests/kernel_test.py\n",
    "# !cd .. && PYTHONPATH=. NUMBA_NUM_THREADS=3 OMP_NUM_THREADS=3 python3 tests/kernel_test.py\n",
    "# !cd .. && PYTHONPATH=. NUMBA_NUM_THREADS=4 OMP_NUM_THREADS=4 python3 tests/kernel_test.py"
   ]
  },
  {
   "cell_type": "code",
   "execution_count": null,
   "metadata": {},
   "outputs": [],
   "source": [
    "# !cat ../kernel_benchmarks.txt"
   ]
  }
 ],
 "metadata": {
  "kernelspec": {
   "display_name": "Python 3",
   "language": "python",
   "name": "python3"
  },
  "language_info": {
   "codemirror_mode": {
    "name": "ipython",
    "version": 3
   },
   "file_extension": ".py",
   "mimetype": "text/x-python",
   "name": "python",
   "nbconvert_exporter": "python",
   "pygments_lexer": "ipython3",
   "version": "3.6.7"
  }
 },
 "nbformat": 4,
 "nbformat_minor": 2
}
