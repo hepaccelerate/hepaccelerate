{
 "cells": [
  {
   "cell_type": "code",
   "execution_count": null,
   "metadata": {},
   "outputs": [],
   "source": [
    "import os\n",
    "os.environ[\"NUMBA_NUM_THREADS\"] = str(24)"
   ]
  },
  {
   "cell_type": "code",
   "execution_count": null,
   "metadata": {},
   "outputs": [],
   "source": [
    "import sys\n",
    "import matplotlib.pyplot as plt\n",
    "sys.path += [\"../\"]"
   ]
  },
  {
   "cell_type": "code",
   "execution_count": null,
   "metadata": {},
   "outputs": [],
   "source": [
    "import hepaccelerate\n",
    "import uproot\n",
    "import numpy as np\n",
    "import cupy as cp\n",
    "\n",
    "import pandas\n",
    "import copy\n",
    "\n",
    "import hepaccelerate.kernels as kernels\n",
    "import hepaccelerate.backend_cuda as backend_cuda\n",
    "import hepaccelerate.backend_cpu as backend_cpu"
   ]
  },
  {
   "cell_type": "code",
   "execution_count": null,
   "metadata": {},
   "outputs": [],
   "source": [
    "#!curl http://opendata.atlas.cern/release/samples/Data/DataMuons.root -o DataMuons.root\n",
    "#!curl http://opendata.atlas.cern/release/samples/MC/mc_147771.Zmumu.root -o mc_147771.Zmumu.root"
   ]
  },
  {
   "cell_type": "code",
   "execution_count": null,
   "metadata": {},
   "outputs": [],
   "source": [
    "uproot.open(\"DataMuons.root\").get(\"mini\").keys()"
   ]
  },
  {
   "cell_type": "code",
   "execution_count": null,
   "metadata": {},
   "outputs": [],
   "source": [
    "def load_file(filename):\n",
    "    fi = uproot.open(filename)\n",
    "    tt = fi.get(\"mini\")\n",
    "    \n",
    "    #Load arrays from ROOT file\n",
    "    arrdata = {\n",
    "        str(k, \"ascii\"): tt.array(k) for k in [\n",
    "            b\"jet_pt\", b\"jet_eta\", b\"jet_phi\", b\"jet_m\",\n",
    "            b\"lep_pt\", b\"lep_eta\", b\"lep_phi\", b\"lep_E\", b\"lep_type\", b\"lep_charge\",\n",
    "            b\"pvxp_n\",\n",
    "            b\"scaleFactor_PILEUP\",\n",
    "        ]\n",
    "    }\n",
    "    numev = len(tt)\n",
    "    \n",
    "    return arrdata, numev"
   ]
  },
  {
   "cell_type": "code",
   "execution_count": null,
   "metadata": {},
   "outputs": [],
   "source": [
    "arrdata_d, numev_d = load_file(\"DataMuons.root\")\n",
    "arrdata_m, numev_m = load_file(\"mc_147771.Zmumu.root\")"
   ]
  },
  {
   "cell_type": "code",
   "execution_count": null,
   "metadata": {},
   "outputs": [],
   "source": [
    "def compute_inv_mass(offsets, pt, eta, phi, m, mask_content, nplib, backend):\n",
    "    #Convert all the jet momenta to cartesian\n",
    "    px, py, pz, e = backend.spherical_to_cartesian(\n",
    "        pt, eta, phi, m\n",
    "    )\n",
    "    \n",
    "    #Add up the jet momenta on a per-event basis\n",
    "    pxtot = kernels.sum_in_offsets(\n",
    "        backend,\n",
    "        offsets, px, mask_content=mask_content\n",
    "    )\n",
    "    pytot = kernels.sum_in_offsets(\n",
    "        backend,\n",
    "        offsets, py, mask_content=mask_content\n",
    "    )\n",
    "    pztot = kernels.sum_in_offsets(\n",
    "        backend,\n",
    "        offsets, pz, mask_content=mask_content\n",
    "    )\n",
    "    ptot2 = (pxtot**2 + pytot**2 + pztot**2)\n",
    "    etot = kernels.sum_in_offsets(\n",
    "        backend,\n",
    "        offsets, e, mask_content=mask_content\n",
    "    )\n",
    "    etot2 = etot**2\n",
    "    diff = etot2 - ptot2\n",
    "    diff[diff<0] = 0.0\n",
    "    return nplib.sqrt(diff)"
   ]
  },
  {
   "cell_type": "code",
   "execution_count": null,
   "metadata": {},
   "outputs": [],
   "source": [
    "#Copy to GPU device in case cupy is specified, otherwise do nothing\n",
    "def to_device(arr, nplib):\n",
    "    if nplib == cp:\n",
    "        return cp.array(arr)\n",
    "    return arr"
   ]
  },
  {
   "cell_type": "code",
   "execution_count": null,
   "metadata": {},
   "outputs": [],
   "source": [
    "def process_array_data(arrdata, numev, nplib, backend, parameters):\n",
    "    #Move arrays to GPU if applicable\n",
    "    jet_pt = to_device(arrdata[\"jet_pt\"].content/1000.0, nplib)\n",
    "    jet_m = to_device(arrdata[\"jet_m\"].content/1000.0, nplib)\n",
    "    jet_eta = to_device(arrdata[\"jet_eta\"].content, nplib)\n",
    "    jet_phi = to_device(arrdata[\"jet_phi\"].content, nplib)\n",
    "    jet_offsets = to_device(arrdata[\"jet_pt\"].offsets, nplib)\n",
    "    \n",
    "    lep_pt = to_device(arrdata[\"lep_pt\"].content/1000.0, nplib)\n",
    "    lep_e = to_device(arrdata[\"lep_E\"].content/1000.0, nplib)\n",
    "    lep_eta = to_device(arrdata[\"lep_eta\"].content, nplib)\n",
    "    lep_phi = to_device(arrdata[\"lep_phi\"].content, nplib)\n",
    "    lep_type = to_device(arrdata[\"lep_type\"].content, nplib)\n",
    "    lep_charge = to_device(arrdata[\"lep_charge\"].content, nplib)\n",
    "    lep_offsets = to_device(arrdata[\"lep_pt\"].offsets, nplib)\n",
    "    \n",
    "    #Set the lepton masses to the experimental values\n",
    "    lep_m = nplib.zeros_like(lep_pt)\n",
    "    lep_m[lep_type==11] = 0.510/1000.0\n",
    "    lep_m[lep_type==13] = 105.658/1000.0\n",
    "    \n",
    "    #Lepton selection\n",
    "    sel_leps = lep_pt > parameters[\"lep_pt_cut\"]\n",
    "    leps_opposite_charge = kernels.select_opposite_sign(backend, lep_offsets, lep_charge, sel_leps)\n",
    "    sel_leps = sel_leps & leps_opposite_charge\n",
    "    num_leps = kernels.sum_in_offsets(backend, lep_offsets, sel_leps, dtype=nplib.int8)\n",
    "    inv_mass_leps = compute_inv_mass(lep_offsets, lep_pt, lep_eta, lep_phi, lep_m, sel_leps, nplib, backend)\n",
    "    \n",
    "    #Find jets that pass the selection cuts\n",
    "    sel_jets = (\n",
    "        (jet_pt > parameters[\"jet_pt_cut\"]) &\n",
    "        (nplib.abs(jet_eta) < parameters[\"jet_eta_cut\"])\n",
    "    )\n",
    "    \n",
    "    #Mask the jets that are closer than a certain dR value to selected leptons\n",
    "    jet_dr_masked = kernels.mask_deltar_first(\n",
    "        backend,\n",
    "        {\"eta\": jet_eta, \"phi\": jet_phi, \"offsets\": jet_offsets}, sel_jets,\n",
    "        {\"eta\": lep_eta, \"phi\": lep_phi, \"offsets\": jet_offsets}, sel_leps,\n",
    "        parameters[\"jet_lepton_dr\"]\n",
    "    )\n",
    "    sel_jets = sel_jets & jet_dr_masked\n",
    "    \n",
    "    #Find events with a minimum number of jets\n",
    "    num_jets = kernels.sum_in_offsets(backend, jet_offsets, sel_jets, dtype=nplib.int8)\n",
    "    sel_ev = (num_jets >= parameters[\"min_num_jet\"]) * (num_leps >= 2)\n",
    "    \n",
    "    #Compute the total pt of jets for all events that pass the selection\n",
    "    sum_pt = kernels.sum_in_offsets(backend, jet_offsets, jet_pt, mask_rows=sel_ev, mask_content=sel_jets)\n",
    "    \n",
    "    #Create per-event weights\n",
    "    weights_ev = nplib.ones(numev, dtype=nplib.float32)\n",
    "    if parameters[\"is_mc\"]:\n",
    "        weights_ev *= nplib.array(arrdata[\"scaleFactor_PILEUP\"])\n",
    "\n",
    "    #Create a per-jet array of the event weights using broadcasting\n",
    "    weights_jet = nplib.ones(len(jet_pt), dtype=nplib.float32)\n",
    "    kernels.broadcast(backend, jet_offsets, weights_ev, weights_jet)\n",
    "    \n",
    "    #Prepare histograms of jet properties\n",
    "    hists_jet = kernels.histogram_from_vector_several(\n",
    "        backend,\n",
    "        [\n",
    "            (jet_pt, nplib.linspace(0, 500, 100, dtype=nplib.float32)),\n",
    "            (jet_eta, nplib.linspace(-5, 5, 100, dtype=nplib.float32)),\n",
    "            (jet_phi, nplib.linspace(-4, 4, 100, dtype=nplib.float32)),\n",
    "        ],\n",
    "        weights_jet,\n",
    "        mask=sel_jets\n",
    "    )\n",
    "    \n",
    "    #Compute the invariant mass of the jets in the event\n",
    "    inv_mass_jets = compute_inv_mass(jet_offsets, jet_pt, jet_eta, jet_phi, jet_m, sel_jets, nplib, backend)\n",
    "    \n",
    "    hists_ev = kernels.histogram_from_vector_several(\n",
    "        backend,\n",
    "        [\n",
    "            (sum_pt, nplib.linspace(0, 1000, 100, dtype=nplib.float32)),\n",
    "            (inv_mass_jets, nplib.linspace(0, 1000, 40, dtype=nplib.float32)),\n",
    "            (inv_mass_leps, nplib.linspace(0, 200, 40, dtype=nplib.float32)),\n",
    "        ],\n",
    "        weights_ev,\n",
    "        mask=sel_ev\n",
    "    )\n",
    "    \n",
    "    return {\n",
    "        \"numev\": numev,\n",
    "        \"hist_jet_pt\": hists_jet[0],\n",
    "        \"hist_jet_eta\": hists_jet[1],\n",
    "        \"hist_sum_pt\": hists_ev[0],\n",
    "        \"hist_inv_mass_jets\": hists_ev[1],\n",
    "        \"hist_inv_mass_leps\": hists_ev[2],\n",
    "    }"
   ]
  },
  {
   "cell_type": "code",
   "execution_count": null,
   "metadata": {},
   "outputs": [],
   "source": [
    "def process_analysis(pars, nplib, backend):\n",
    "    p_d = copy.deepcopy(pars)\n",
    "    p_d[\"is_mc\"] = False\n",
    "    r_d = process_array_data(arrdata_d, numev_d, nplib, backend, p_d)\n",
    "    \n",
    "    p_m = copy.deepcopy(pars)\n",
    "    p_m[\"is_mc\"] = True\n",
    "    r_m = process_array_data(arrdata_m, numev_m, nplib, backend, p_m)\n",
    "    \n",
    "    return {\n",
    "        \"data\": r_d,\n",
    "        \"mc\": r_m\n",
    "    }"
   ]
  },
  {
   "cell_type": "code",
   "execution_count": null,
   "metadata": {},
   "outputs": [],
   "source": [
    "pars = {\n",
    "    \"lep_pt_cut\": 40.0, \"jet_lepton_dr\": 0.4,\n",
    "    \"jet_pt_cut\": 20, \"jet_eta_cut\": 2.5, \"min_num_jet\": 3\n",
    "}"
   ]
  },
  {
   "cell_type": "code",
   "execution_count": null,
   "metadata": {},
   "outputs": [],
   "source": [
    "r = process_analysis(pars, cp, backend_cuda)"
   ]
  },
  {
   "cell_type": "code",
   "execution_count": null,
   "metadata": {},
   "outputs": [],
   "source": [
    "plt.plot(r[\"data\"][\"hist_jet_pt\"][2][:-1], r[\"data\"][\"hist_jet_pt\"][0])\n",
    "plt.plot(r[\"mc\"][\"hist_jet_pt\"][2][:-1], r[\"mc\"][\"hist_jet_pt\"][0])"
   ]
  },
  {
   "cell_type": "code",
   "execution_count": null,
   "metadata": {},
   "outputs": [],
   "source": [
    "plt.plot(r[\"data\"][\"hist_inv_mass_leps\"][2][:-1], r[\"data\"][\"hist_inv_mass_leps\"][0], lw=0, marker=\"o\", color=\"black\")\n",
    "plt.plot(r[\"mc\"][\"hist_inv_mass_leps\"][2][:-1], r[\"mc\"][\"hist_inv_mass_leps\"][0])"
   ]
  },
  {
   "cell_type": "code",
   "execution_count": null,
   "metadata": {},
   "outputs": [],
   "source": [
    "tr = %timeit -o process_analysis(pars, cp, backend_cuda)\n",
    "numev = r[\"data\"][\"numev\"] + r[\"mc\"][\"numev\"]\n",
    "print(\"Event processing speed: {0:.2f} MHz\".format(numev/tr.average/1e6))"
   ]
  },
  {
   "cell_type": "code",
   "execution_count": null,
   "metadata": {},
   "outputs": [],
   "source": [
    "tr = %timeit -o process_analysis(pars, np, backend_cpu)\n",
    "print(\"Event processing speed: {0:.2f} MHz\".format(numev/tr.average/1e6))"
   ]
  },
  {
   "cell_type": "code",
   "execution_count": null,
   "metadata": {},
   "outputs": [],
   "source": []
  }
 ],
 "metadata": {
  "kernelspec": {
   "display_name": "Python 3",
   "language": "python",
   "name": "python3"
  },
  "language_info": {
   "codemirror_mode": {
    "name": "ipython",
    "version": 3
   },
   "file_extension": ".py",
   "mimetype": "text/x-python",
   "name": "python",
   "nbconvert_exporter": "python",
   "pygments_lexer": "ipython3",
   "version": "3.7.4"
  }
 },
 "nbformat": 4,
 "nbformat_minor": 2
}
