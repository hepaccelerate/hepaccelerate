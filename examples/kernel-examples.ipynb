{
 "cells": [
  {
   "cell_type": "code",
   "execution_count": 1,
   "metadata": {},
   "outputs": [
    {
     "name": "stdout",
     "output_type": "stream",
     "text": [
      "setGPU: Setting GPU to: 0\n"
     ]
    }
   ],
   "source": [
    "import setGPU\n",
    "import numba, cupy\n",
    "import uproot\n",
    "import numpy as np\n",
    "from numba import cuda"
   ]
  },
  {
   "cell_type": "code",
   "execution_count": 2,
   "metadata": {},
   "outputs": [
    {
     "name": "stdout",
     "output_type": "stream",
     "text": [
      "Fri Oct 11 15:46:04 2019       \r\n",
      "+-----------------------------------------------------------------------------+\r\n",
      "| NVIDIA-SMI 418.67       Driver Version: 418.67       CUDA Version: 10.1     |\r\n",
      "|-------------------------------+----------------------+----------------------+\r\n",
      "| GPU  Name        Persistence-M| Bus-Id        Disp.A | Volatile Uncorr. ECC |\r\n",
      "| Fan  Temp  Perf  Pwr:Usage/Cap|         Memory-Usage | GPU-Util  Compute M. |\r\n",
      "|===============================+======================+======================|\r\n",
      "|   0  GeForce GTX TIT...  On   | 00000000:0C:00.0 Off |                  N/A |\r\n",
      "| 22%   36C    P8    16W / 250W |      1MiB / 12212MiB |      0%      Default |\r\n",
      "+-------------------------------+----------------------+----------------------+\r\n",
      "|   1  GeForce GTX TIT...  On   | 00000000:0D:00.0 Off |                  N/A |\r\n",
      "| 22%   34C    P8    15W / 250W |      1MiB / 12212MiB |      0%      Default |\r\n",
      "+-------------------------------+----------------------+----------------------+\r\n",
      "                                                                               \r\n",
      "+-----------------------------------------------------------------------------+\r\n",
      "| Processes:                                                       GPU Memory |\r\n",
      "|  GPU       PID   Type   Process name                             Usage      |\r\n",
      "|=============================================================================|\r\n",
      "|  No running processes found                                                 |\r\n",
      "+-----------------------------------------------------------------------------+\r\n"
     ]
    }
   ],
   "source": [
    "!nvidia-smi"
   ]
  },
  {
   "cell_type": "code",
   "execution_count": 3,
   "metadata": {},
   "outputs": [],
   "source": [
    "fi = uproot.open(\"/storage/user/jpata/opendata_files/TTJets_SemiLeptMGDecays-merged/1.root\")"
   ]
  },
  {
   "cell_type": "code",
   "execution_count": 4,
   "metadata": {},
   "outputs": [],
   "source": [
    "tt = fi.get(\"aod2nanoaod/Events\")"
   ]
  },
  {
   "cell_type": "code",
   "execution_count": 5,
   "metadata": {},
   "outputs": [],
   "source": [
    "pt = tt.array(\"Jet_pt\")"
   ]
  },
  {
   "cell_type": "code",
   "execution_count": 65,
   "metadata": {},
   "outputs": [
    {
     "data": {
      "text/plain": [
       "(2249911,)"
      ]
     },
     "execution_count": 65,
     "metadata": {},
     "output_type": "execute_result"
    }
   ],
   "source": [
    "pt.shape"
   ]
  },
  {
   "cell_type": "code",
   "execution_count": 66,
   "metadata": {},
   "outputs": [
    {
     "name": "stdout",
     "output_type": "stream",
     "text": [
      "12.3 s ± 1.62 ms per loop (mean ± std. dev. of 7 runs, 1 loop each)\n"
     ]
    }
   ],
   "source": [
    "def sumpt_event(data, offsets, ret):\n",
    "    ret[:] = 0\n",
    "    for iev in range(len(offsets)-1):\n",
    "        i0 = offsets[iev]\n",
    "        i1 = offsets[iev+1]\n",
    "        for j in range(i0, i1):\n",
    "            ret[iev] += data[j]\n",
    "    return ret\n",
    "\n",
    "sum1 = np.zeros(len(pt.offsets)-1, dtype=np.float64)\n",
    "%timeit sumpt_event(pt.content, pt.offsets, sum1)"
   ]
  },
  {
   "cell_type": "code",
   "execution_count": 67,
   "metadata": {},
   "outputs": [
    {
     "name": "stdout",
     "output_type": "stream",
     "text": [
      "87.9 ms ± 295 µs per loop (mean ± std. dev. of 7 runs, 3 loops each)\n"
     ]
    }
   ],
   "source": [
    "%timeit -n3 pt.sum()"
   ]
  },
  {
   "cell_type": "code",
   "execution_count": 62,
   "metadata": {},
   "outputs": [],
   "source": [
    "@numba.njit(parallel=True)\n",
    "def sumpt_event(data, offsets, ret):\n",
    "    ret[:] = 0\n",
    "    for iev in numba.prange(len(offsets)-1):\n",
    "        i0 = offsets[iev]\n",
    "        i1 = offsets[iev+1]\n",
    "        for j in range(i0, i1):\n",
    "            ret[iev] += data[j]\n",
    "    return ret"
   ]
  },
  {
   "cell_type": "code",
   "execution_count": 68,
   "metadata": {},
   "outputs": [
    {
     "name": "stdout",
     "output_type": "stream",
     "text": [
      "12 s ± 4.87 ms per loop (mean ± std. dev. of 7 runs, 3 loops each)\n"
     ]
    }
   ],
   "source": [
    "sum2 = np.zeros(len(pt.offsets)-1, dtype=np.float64)\n",
    "%timeit -n3 sumpt_event(pt.content, pt.offsets, sum2)"
   ]
  },
  {
   "cell_type": "code",
   "execution_count": 57,
   "metadata": {},
   "outputs": [],
   "source": [
    "@cuda.jit\n",
    "def sumpt_event_cudakernel(data, offsets, ret):\n",
    "    xi = cuda.grid(1)\n",
    "    xstride = cuda.gridsize(1)\n",
    "\n",
    "    for iev in range(xi, offsets.shape[0]-1, xstride):\n",
    "        ret[iev] = 0.0\n",
    "        start = offsets[iev]\n",
    "        end = offsets[iev + 1]\n",
    "        for ielem in range(start, end):\n",
    "            ret[iev] += data[ielem]"
   ]
  },
  {
   "cell_type": "code",
   "execution_count": 69,
   "metadata": {
    "scrolled": false
   },
   "outputs": [],
   "source": [
    "sum3 = cupy.zeros(len(pt.offsets)-1, dtype=cupy.float32)\n",
    "d1 = cupy.array(pt.content, dtype=cupy.float32)\n",
    "d2 = cupy.array(pt.offsets, dtype=cupy.uint64)"
   ]
  },
  {
   "cell_type": "code",
   "execution_count": 70,
   "metadata": {},
   "outputs": [
    {
     "name": "stdout",
     "output_type": "stream",
     "text": [
      "2.18 ms ± 14.7 µs per loop (mean ± std. dev. of 7 runs, 100 loops each)\n"
     ]
    }
   ],
   "source": [
    "%%timeit\n",
    "sumpt_event_cudakernel[128,1024](d1, d2, sum3)\n",
    "cuda.synchronize()"
   ]
  },
  {
   "cell_type": "code",
   "execution_count": null,
   "metadata": {},
   "outputs": [],
   "source": []
  }
 ],
 "metadata": {
  "kernelspec": {
   "display_name": "Python 3",
   "language": "python",
   "name": "python3"
  },
  "language_info": {
   "codemirror_mode": {
    "name": "ipython",
    "version": 3
   },
   "file_extension": ".py",
   "mimetype": "text/x-python",
   "name": "python",
   "nbconvert_exporter": "python",
   "pygments_lexer": "ipython3",
   "version": "3.7.3"
  }
 },
 "nbformat": 4,
 "nbformat_minor": 2
}
